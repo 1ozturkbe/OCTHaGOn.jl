{
 "cells": [
  {
   "cell_type": "code",
   "execution_count": null,
   "metadata": {},
   "outputs": [],
   "source": [
    "# Getting Matlab logo data\n",
    "using CSV, DataFrames, Statistics, Random, SparseArrays, Plots;\n",
    "pyplot()\n",
    "data = Matrix(CSV.read(\"../../data/membrane.csv\"));\n",
    "X = [[i,j] for i=1:size(data,1) for j=1:size(data,2)];\n",
    "X = transpose(hcat(X...));\n",
    "Y = [data[i,j] for i=1:size(data,1) for j=1:size(data,2)];\n",
    "idxs = rand(1:length(Y), 1000);"
   ]
  },
  {
   "cell_type": "code",
   "execution_count": null,
   "metadata": {},
   "outputs": [],
   "source": [
    "# Drawing the surface of MATLAB logo\n",
    "plot(X[:,1], X[:,2],Y, st=:surface, camera=(-20,30))\n",
    "# plot!(X[idxs,1], X[idxs,2], 60 .*ones(length(idxs)), st=:surface)"
   ]
  },
  {
   "cell_type": "code",
   "execution_count": null,
   "metadata": {},
   "outputs": [],
   "source": [
    "# How about all values above 60?\n",
    "threshold = 60;\n",
    "bin = Y .>= threshold;\n",
    "bin_idxs = findall(x -> x.>=threshold, idxs);\n",
    "plot(X[:,1], X[:,2], bin, st=:surface)\n"
   ]
  },
  {
   "cell_type": "code",
   "execution_count": null,
   "metadata": {},
   "outputs": [],
   "source": [
    "# Let's see if our algorithm can recognise this feasible region. \n",
    "include(\"../src/fit.jl\");\n",
    "lnr = base_lnr(false);\n",
    "IAI.set_params!(lnr, max_depth=7)\n",
    "IAI.fit!(lnr, X[idxs,:], bin[idxs])"
   ]
  },
  {
   "cell_type": "code",
   "execution_count": null,
   "metadata": {},
   "outputs": [],
   "source": [
    "IAI.show_in_browser(lnr)"
   ]
  },
  {
   "cell_type": "code",
   "execution_count": null,
   "metadata": {},
   "outputs": [],
   "source": [
    "# Compare predictions and actual\n",
    "predict = IAI.predict(lnr, X)\n",
    "plot(X[:,1], X[:, 2], predict, st=:surface)\n",
    "# plot!(X[idxs,1], X[idxs,2], predict, st=:surface)"
   ]
  },
  {
   "cell_type": "code",
   "execution_count": null,
   "metadata": {},
   "outputs": [],
   "source": [
    "print(\"Score: \", IAI.score(lnr, X, bin))"
   ]
  },
  {
   "cell_type": "code",
   "execution_count": null,
   "metadata": {},
   "outputs": [],
   "source": [
    "# How about trees in logspace\n",
    "IAI.fit!(lnr, log.(X), Y)"
   ]
  }
 ],
 "metadata": {
  "kernelspec": {
   "display_name": "Julia 1.5.1",
   "language": "julia",
   "name": "julia-1.5"
  },
  "language_info": {
   "file_extension": ".jl",
   "mimetype": "application/julia",
   "name": "julia",
   "version": "1.5.1"
  }
 },
 "nbformat": 4,
 "nbformat_minor": 2
}
