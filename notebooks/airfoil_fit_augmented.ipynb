{
 "cells": [
  {
   "cell_type": "code",
   "execution_count": null,
   "metadata": {},
   "outputs": [],
   "source": [
    "# Getting data from aerospace database.\n",
    "using CSV, DataFrames, Statistics, Random\n",
    "include(\"../src/augment.jl\")\n",
    "include(\"../src/bin_to_leaves.jl\")"
   ]
  },
  {
   "cell_type": "code",
   "execution_count": null,
   "metadata": {},
   "outputs": [],
   "source": [
    "# Optional extra cores\n",
    "using Distributed\n",
    "addprocs(1)"
   ]
  },
  {
   "cell_type": "code",
   "execution_count": null,
   "metadata": {},
   "outputs": [],
   "source": [
    "columns = [\"Re\", \"thick\", \"M\", \"C_L\"];\n",
    "X = CSV.read(\"../data/airfoil/airfoil_X.csv\", copycols=true, header=columns, delim=\",\");\n",
    "Y = CSV.read(\"../data/airfoil/airfoil_Y.csv\", copycols=true, header=[\"C_D\"], delim=\",\");\n",
    "# X = Matrix(X); Y = Matrix(Y);\n",
    "Re = Array(range(10000, stop=35000, step=5000));\n",
    "thick = [100,110,120,130,140,145];\n",
    "M = [0.4, 0.5, 0.6, 0.7, 0.8, 0.9];\n",
    "cl = Array(range(0.35, stop=0.70, step=0.05));"
   ]
  },
  {
   "cell_type": "code",
   "execution_count": null,
   "metadata": {},
   "outputs": [],
   "source": [
    "# Testing augmentation\n",
    "fns, fn_names = quad_fns(X);\n",
    "print(fn_names)\n",
    "fns, fn_names = bilinear_fns(X);\n",
    "print(fns)"
   ]
  },
  {
   "cell_type": "code",
   "execution_count": null,
   "metadata": {},
   "outputs": [],
   "source": []
  },
  {
   "cell_type": "code",
   "execution_count": null,
   "metadata": {},
   "outputs": [],
   "source": [
    "# Now try augmentations\n",
    "fns, fn_names = quad_fns(X);\n",
    "X, fns = augment(X, fns, fn_names);\n",
    "X, means, vars = normalize(X);\n",
    "(train_X, train_y), (test_X, test_y) = IAI.split_data(:regression, seed=1, Matrix(X), Matrix(Y), train_proportion=0.8);\n",
    "size(train_X)"
   ]
  },
  {
   "cell_type": "code",
   "execution_count": null,
   "metadata": {},
   "outputs": [],
   "source": [
    "# Try optimal feature selection\n",
    "lnr = IAI.OptimalFeatureSelectionRegressor()\n",
    "grid = IAI.GridSearch(lnr, criterion=[:mse, :l1hinge, :l2hinge], sparsity=3:10)\n",
    "IAI.fit!(grid, train_X, train_y, test_X, test_y, validation_criterion=:mse)"
   ]
  },
  {
   "cell_type": "code",
   "execution_count": null,
   "metadata": {},
   "outputs": [],
   "source": [
    "# MSE errors of SVM/linear regression\n",
    "lnr = IAI.get_learner(grid)\n",
    "println(\"Training MSE:\", 1 - IAI.score(lnr, train_X, train_y, criterion=:mse))\n",
    "println(\"Test MSE:\", 1- IAI.score(lnr, test_X, test_y, criterion=:mse))"
   ]
  },
  {
   "cell_type": "code",
   "execution_count": null,
   "metadata": {},
   "outputs": [],
   "source": [
    "# Plotting results\n",
    "predictions = IAI.predict(lnr, X)\n",
    "using Plots\n",
    "plt = Plots.plot(X[:,3], X[:,4], Y[:,1], seriestype=:scatter, markersize = 2)\n",
    "plt = Plots.plot!(X[:,3], X[:,4], predictions, seriestype=:scatter, markersize = 2)\n",
    "display(plt)\n",
    "# Obviously not great..."
   ]
  },
  {
   "cell_type": "code",
   "execution_count": null,
   "metadata": {},
   "outputs": [],
   "source": [
    "# What if we fit a tree over the augmented features?\n",
    "lnr = IAI.OptimalTreeRegressor(random_seed=31415, max_depth=2, cp=0.001, minbucket=0.05, regression_sparsity=:all, \n",
    "    regression_lambda = 0.0001, regression_weighted_betas=true, fast_num_support_restarts=10)\n",
    "IAI.fit!(lnr, train_X, train_y)"
   ]
  },
  {
   "cell_type": "code",
   "execution_count": null,
   "metadata": {},
   "outputs": [],
   "source": [
    "lnr = IAI.get_learner(grid)"
   ]
  },
  {
   "cell_type": "code",
   "execution_count": null,
   "metadata": {},
   "outputs": [],
   "source": [
    "# Plotting results\n",
    "predictions = IAI.predict(lnr, X)\n",
    "using Plots\n",
    "plt = Plots.plot(X[:,3], X[:,4], Y[:,1], seriestype=:scatter, markersize = 2)\n",
    "plt = Plots.plot!(X[:,3], X[:,4], predictions, seriestype=:scatter, markersize = 2)\n",
    "display(plt)\n"
   ]
  },
  {
   "cell_type": "code",
   "execution_count": null,
   "metadata": {},
   "outputs": [],
   "source": [
    "# MSE errors\n",
    "println(\"Training MSE:\", 1 - IAI.score(lnr, train_X, train_y, criterion=:mse))\n",
    "println(\"Test MSE:\", 1- IAI.score(lnr, test_X, test_y, criterion=:mse))"
   ]
  },
  {
   "cell_type": "code",
   "execution_count": null,
   "metadata": {},
   "outputs": [],
   "source": [
    "size(X)"
   ]
  }
 ],
 "metadata": {
  "kernelspec": {
   "display_name": "Julia 1.5.1",
   "language": "julia",
   "name": "julia-1.5"
  },
  "language_info": {
   "file_extension": ".jl",
   "mimetype": "application/julia",
   "name": "julia",
   "version": "1.5.1"
  }
 },
 "nbformat": 4,
 "nbformat_minor": 4
}
