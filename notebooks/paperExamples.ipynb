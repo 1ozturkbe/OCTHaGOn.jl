{
 "cells": [
  {
   "cell_type": "code",
   "execution_count": null,
   "metadata": {},
   "outputs": [],
   "source": [
    "using JuMP\n",
    "using Plots\n",
    "using LaTeXStrings\n",
    "pyplot()\n",
    "include(\"../src/OptimalConstraintTree.jl\")\n",
    "const OCT = OptimalConstraintTree"
   ]
  },
  {
   "cell_type": "code",
   "execution_count": null,
   "metadata": {},
   "outputs": [],
   "source": [
    "md = OCT.sagemark_to_ModelData(3, lse=false);\n",
    "md.lbs[4] = -300.;\n",
    "md.ubs[4] = 0;"
   ]
  },
  {
   "cell_type": "code",
   "execution_count": null,
   "metadata": {},
   "outputs": [],
   "source": [
    "n_samples = 1000;\n",
    "X = OCT.sample(md, n_samples=n_samples);"
   ]
  },
  {
   "cell_type": "code",
   "execution_count": null,
   "metadata": {
    "scrolled": true
   },
   "outputs": [],
   "source": [
    "ineq_trees, eq_trees = OCT.fit(md, X, lnr = OCT.base_lnr(false));"
   ]
  },
  {
   "cell_type": "code",
   "execution_count": null,
   "metadata": {},
   "outputs": [],
   "source": [
    "IAI.show_in_browser(ineq_trees[1].lnr)\n",
    "IAI.show_in_browser(ineq_trees[2].lnr)"
   ]
  },
  {
   "cell_type": "code",
   "execution_count": null,
   "metadata": {},
   "outputs": [],
   "source": [
    "# Getting data ready for plots\n",
    "offset = [md.ineq_fns[2](X[j,:]) for j=1:n_samples];\n",
    "# 1 - 0.01\\frac{x_2}{x_3} - 0.01 x_2 - 0.005x_1x_3 \\geq 0\n",
    "feas_idxs = findall(x -> x.>=0, offset);\n",
    "infeas_idxs = findall(x -> x.<0, offset);"
   ]
  },
  {
   "cell_type": "code",
   "execution_count": null,
   "metadata": {},
   "outputs": [],
   "source": [
    "include(\"../src/constraintify.jl\");\n",
    "upperDict, lowerDict = trust_region_data(ineq_trees[2].lnr, [Symbol(\"x\",i) for i=1:4]);"
   ]
  },
  {
   "cell_type": "code",
   "execution_count": null,
   "metadata": {},
   "outputs": [],
   "source": [
    "lnr = ineq_trees[2].lnr;\n",
    "n_nodes = IAI.get_num_nodes(lnr)\n",
    "all_leaves = [i for i = 1:n_nodes if IAI.is_leaf(lnr, i)]\n",
    "splits = [i for i=1:n_nodes if !(i in all_leaves)]\n",
    "vks = [Symbol(\"x\",i) for i=1:4];\n",
    "fns = [];\n",
    "# Calculation fn for x3\n",
    "for i in splits\n",
    "    threshold = IAI.get_split_threshold(lnr, i);\n",
    "    weights = IAI.get_split_weights(lnr, i)[1];\n",
    "    α = [];\n",
    "    for j = 1:size(vks, 1)\n",
    "        if vks[j] in keys(weights)\n",
    "            append!(α, weights[vks[j]])\n",
    "        else\n",
    "            append!(α, 0.0)\n",
    "        end\n",
    "    end\n",
    "    push!(fns, x -> (threshold - α[1]*x[1] - α[2]*x[2])/α[3]);\n",
    "end"
   ]
  },
  {
   "cell_type": "code",
   "execution_count": null,
   "metadata": {},
   "outputs": [],
   "source": [
    "p_infeas = scatter(X[infeas_idxs,1], X[infeas_idxs,2], X[infeas_idxs,3], color=:red)\n",
    "p_feas = scatter!(X[feas_idxs,1], X[feas_idxs,2], X[feas_idxs,3], color=:green)\n",
    "s_1 = plot!(X[:,1], X[:,2], fns[1].([X[j,1:2] for j=1:n_samples]), st=:surface)\n",
    "plot(s_1, xlabel=L\"$x_1$\", ylabel=L\"$x_2$\", zlabel=L\"$x_3$\", camera=(70,-10), legend=:none, colorbar=false)"
   ]
  },
  {
   "cell_type": "code",
   "execution_count": null,
   "metadata": {},
   "outputs": [],
   "source": [
    "# Actually solving the problem\n",
    "m, x = OCT.jump_it(md);\n",
    "OCT.add_linear_constraints!(m, x, md);\n",
    "OCT.add_tree_constraints!(m, x, ineq_trees, eq_trees);\n",
    "status = solve(m);\n",
    "println(\"Solved minimum: \", sum(md.c .* getvalue(x)))\n",
    "println(\"Known global bound: \", -147-2/3)\n",
    "println(\"X values: \", getvalue(x))\n",
    "println(\"Optimal X: \", vcat(exp.([5.01063529, 3.40119660, -0.48450710]), [-147-2/3]))"
   ]
  }
 ],
 "metadata": {
  "kernelspec": {
   "display_name": "Julia 1.5.1",
   "language": "julia",
   "name": "julia-1.5"
  },
  "language_info": {
   "file_extension": ".jl",
   "mimetype": "application/julia",
   "name": "julia",
   "version": "1.5.1"
  }
 },
 "nbformat": 4,
 "nbformat_minor": 2
}
