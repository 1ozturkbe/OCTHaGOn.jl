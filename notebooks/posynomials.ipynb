{
 "cells": [
  {
   "cell_type": "code",
   "execution_count": null,
   "metadata": {},
   "outputs": [],
   "source": [
    "# Imports\n",
    "using Gurobi\n",
    "using LinearAlgebra\n",
    "using JuMP\n",
    "using Random\n",
    "using LaTeXStrings\n",
    "using ExperimentalDesign\n",
    "using RCall\n",
    "include(\"fit.jl\");\n",
    "include(\"convexRegress.jl\");\n",
    "include(\"bin_to_leaves.jl\");\n",
    "include(\"doe.jl\");"
   ]
  },
  {
   "cell_type": "code",
   "execution_count": null,
   "metadata": {},
   "outputs": [],
   "source": [
    "# Generating data from a common aerospace constraint\n",
    "nlevels = [12,12,12,12,12] # Levels for each input\n",
    "orth_arrays = ort_array_doe(nlevels);\n",
    "# Pick first orth array and put in ID manually...\n",
    "R\"factor_mat <- oa.design(L144.12.7 , seed=100)\"\n",
    "@rget factor_mat\n",
    "orth_array = Matrix(factor_mat);\n",
    "orth_array = parse.(Int64,orth_array);\n",
    "factor_mat = collapse(orth_array, nlevels);\n",
    "\n"
   ]
  },
  {
   "cell_type": "code",
   "execution_count": null,
   "metadata": {},
   "outputs": [],
   "source": [
    "# Generating posynomial data\n",
    "samples[:,1]\n"
   ]
  },
  {
   "cell_type": "code",
   "execution_count": null,
   "metadata": {},
   "outputs": [],
   "source": [
    "# Plotting data along two X-axes, in original space\n",
    "using Plots\n",
    "plt3d = Plots.plot(X[:,2], X[:,1], Y[:,1],\n",
    "     seriestype=:surface, markersize = 2, camera=(20,30))\n",
    "xlabel!(\"x_1\"); ylabel!(\"x_2\"); title!(L\"$y = 76x_1^{0.32}x_2^{-0.7}$\")\n",
    "display(plt3d)"
   ]
  },
  {
   "cell_type": "code",
   "execution_count": null,
   "metadata": {},
   "outputs": [],
   "source": [
    "# Plotting data in log-space\n",
    "using Plots\n",
    "u = log.(X);\n",
    "v = log.(Y);\n",
    "plt3d = Plots.plot(u[:,1], u[:,2], v[:,1],\n",
    "     seriestype=:surface, markersize = 2)\n",
    "xlabel!(\"u_1=log(x_1)\"); ylabel!(\"u_2=log(x_2)\"); title!(L\"$v = log(y) = log(76e^{0.32u_1-0.7u_2})$\")\n",
    "display(plt3d)"
   ]
  },
  {
   "cell_type": "code",
   "execution_count": null,
   "metadata": {},
   "outputs": [],
   "source": [
    "bs, b0, ts, ss = regress(v, u, 0.00001, 0, 100.)"
   ]
  },
  {
   "cell_type": "code",
   "execution_count": null,
   "metadata": {},
   "outputs": [],
   "source": [
    "# Plotting actual vs. predictions\n",
    "plt3d = Plots.plot(u[:,1], u[:,2], v[:,1],\n",
    "     seriestype=:surface, markersize = 2);\n",
    "Plots.plot!(u[:,1], u[:,2], u*bs .+ b0,\n",
    "     seriestype=:scatter, markersize = 2);\n",
    "display(plt3d)"
   ]
  },
  {
   "cell_type": "code",
   "execution_count": null,
   "metadata": {},
   "outputs": [],
   "source": [
    "# Solving for...\n",
    "thetas, ksis = convexRegress(v,u,100);"
   ]
  },
  {
   "cell_type": "code",
   "execution_count": null,
   "metadata": {},
   "outputs": [],
   "source": [
    "# Plotting actual vs. predictions\n",
    "plt3d = Plots.plot(u[:,1], u[:,2], v[:,1],\n",
    "     seriestype=:scatter, markersize = 2);\n",
    "Plots.plot!(u[:,1], u[:,2], thetas,\n",
    "     seriestype=:scatter, markersize = 2);\n",
    "display(plt3d)\n"
   ]
  },
  {
   "cell_type": "code",
   "execution_count": null,
   "metadata": {},
   "outputs": [],
   "source": [
    "# Now let's try coupling these methods with Optimal Regression Trees!\n",
    "# First with parallel splits\n",
    "lnr = IAI.OptimalTreeRegressor(random_seed=1, max_depth=3, cp=0.001, minbucket=0.05, regression_sparsity=:all)\n",
    "IAI.fit!(lnr, u, v)\n"
   ]
  },
  {
   "cell_type": "code",
   "execution_count": null,
   "metadata": {},
   "outputs": [],
   "source": [
    "# Plotting actual vs. predictions\n",
    "vpredict = IAI.predict(lnr, u)\n",
    "leaf_index, leaves = bin_to_leaves(lnr, u)\n",
    "display(Plots.plot(u[:,1], u[:,2], vpredict,\n",
    "     seriestype=:scatter, markersize = 2, zcolor=leaf_index, seriescolor=:phase, camera = (15, 30));)"
   ]
  }
 ],
 "metadata": {
  "kernelspec": {
   "display_name": "Julia 1.5.1",
   "language": "julia",
   "name": "julia-1.5"
  },
  "language_info": {
   "file_extension": ".jl",
   "mimetype": "application/julia",
   "name": "julia",
   "version": "1.5.1"
  }
 },
 "nbformat": 4,
 "nbformat_minor": 2
}
