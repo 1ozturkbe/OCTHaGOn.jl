{
 "cells": [
  {
   "cell_type": "code",
   "execution_count": null,
   "metadata": {},
   "outputs": [],
   "source": [
    "# Imports\n",
    "using Gurobi\n",
    "using JuMP\n",
    "using Random\n",
    "using LaTeXStrings\n",
    "using Distributed\n",
    "include(\"fit.jl\");\n",
    "include(\"bin_to_leaves.jl\");"
   ]
  },
  {
   "cell_type": "code",
   "execution_count": null,
   "metadata": {},
   "outputs": [],
   "source": [
    "# Generating data\n",
    "a = 1; b = 2; \n",
    "xβnge(1,5, step=0.1);\n",
    "y = range(1,5, step=0.1);\n",
    "X = zeros(size(x,1)*size(y,1), 2)\n",
    "for i=1:size(x,1)\n",
    "    for j=1:size(y,1)\n",
    "        X[(i-1)*size(y,1)+j, :] = [x[i], y[j]];\n",
    "    end\n",
    "end\n",
    "# Y = X[:,1].^2 - 0.05*(X[:,1] .- 2) .^3 .*X[:,2] - 4*X[:,1].*(X[:,2] .- 1)# + exp.(X[:,1]./X[:,2]);\n",
    "Y = max.(0, X[:,1].-2 - 0.1*X[:,1].*X[:,2].^2, X[:,2].-2);"
   ]
  },
  {
   "cell_type": "code",
   "execution_count": null,
   "metadata": {},
   "outputs": [],
   "source": [
    "# Plotting data\n",
    "using Plots\n",
    "plt = Plots.plot(X[:,2], X[:,1], Y[:,1], seriestype=:scatter, markersize = 2, camera=(10,50), legend=false);\n",
    "display(plt)"
   ]
  },
  {
   "cell_type": "code",
   "execution_count": null,
   "metadata": {},
   "outputs": [],
   "source": [
    "model = JuMP.Model(solver=GurobiSolver())\n",
    "@variable(model, a >= 0)"
   ]
  },
  {
   "cell_type": "code",
   "execution_count": null,
   "metadata": {},
   "outputs": [],
   "source": [
    "@constraint(model, a >=5)\n",
    "@objective(model, Min, a)"
   ]
  },
  {
   "cell_type": "code",
   "execution_count": null,
   "metadata": {},
   "outputs": [],
   "source": [
    "JuMP.solve(model)"
   ]
  },
  {
   "cell_type": "code",
   "execution_count": null,
   "metadata": {},
   "outputs": [],
   "source": [
    "# Trees\n",
    "# First with parallel splits\n",
    "include(\"augment.jl\");\n",
    "# X = hcat(X, X[:,1].^2, X[:,2].^2, X[:,1].*X[:,2])#, X[:,1].*X[:,2].^2, X[:,1].^2 .*X[:,2], X[:,1].^3, X[:,2].^3);\n",
    "nX, means, vars = normalize(X);\n",
    "lnr = IAI.OptimalTreeRegressor(random_seed=15, max_depth=3, cp=1e-8, minbucket=0.02, \n",
    "    regression_sparsity=:all, split_features=[1,2], hyperplane_config=(sparsity=1,),\n",
    "    regression_lambda=0.00001, regression_weighted_betas=true, fast_num_support_restarts=3)\n",
    "# Note: have to turn down regression lambda!!\n",
    "IAI.fit!(lnr, nX, Y)"
   ]
  },
  {
   "cell_type": "code",
   "execution_count": null,
   "metadata": {},
   "outputs": [],
   "source": [
    "IAI.write_json(\"lnr.json\", lnr)"
   ]
  },
  {
   "cell_type": "code",
   "execution_count": null,
   "metadata": {},
   "outputs": [],
   "source": [
    "nlnr = IAI.read_json(\"lnr.json\")"
   ]
  },
  {
   "cell_type": "code",
   "execution_count": null,
   "metadata": {},
   "outputs": [],
   "source": [
    "# Plotting actual vs. predictions\n",
    "using Statistics\n",
    "using Plots\n",
    "Ypredict = IAI.predict(lnr, nX)\n",
    "leaf_index, leaves = bin_to_leaves(lnr, nX)\n",
    "display(Plots.plot(X[:,2], X[:,1], Ypredict,\n",
    "     seriestype=:scatter, markersize = 2, zcolor=leaf_index, seriescolor=:phase, camera=(10,50), legend=false));\n",
    "print(\"MSE: \", mean((Ypredict-Y).^2))"
   ]
  },
  {
   "cell_type": "code",
   "execution_count": null,
   "metadata": {},
   "outputs": [],
   "source": [
    "# Deep trees"
   ]
  }
 ],
 "metadata": {
  "kernelspec": {
   "display_name": "Julia 1.5.1",
   "language": "julia",
   "name": "julia-1.5"
  },
  "language_info": {
   "file_extension": ".jl",
   "mimetype": "application/julia",
   "name": "julia",
   "version": "1.5.1"
  }
 },
 "nbformat": 4,
 "nbformat_minor": 4
}
