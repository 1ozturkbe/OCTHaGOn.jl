{
 "cells": [
  {
   "cell_type": "code",
   "execution_count": null,
   "id": "delayed-static",
   "metadata": {},
   "outputs": [],
   "source": [
    "include(\"../load.jl\")"
   ]
  },
  {
   "cell_type": "code",
   "execution_count": null,
   "id": "employed-circular",
   "metadata": {},
   "outputs": [],
   "source": [
    "gm = speed_reducer()\n",
    "uniform_sample_and_eval!(gm)\n",
    "gm"
   ]
  },
  {
   "cell_type": "code",
   "execution_count": null,
   "id": "unlikely-thursday",
   "metadata": {},
   "outputs": [],
   "source": [
    "feasibility_sample(gm)"
   ]
  },
  {
   "cell_type": "code",
   "execution_count": null,
   "id": "expensive-refund",
   "metadata": {},
   "outputs": [],
   "source": [
    "surveysolve(gm)\n",
    "solution(gm)"
   ]
  },
  {
   "cell_type": "code",
   "execution_count": null,
   "id": "medical-boulder",
   "metadata": {},
   "outputs": [],
   "source": [
    "gm = speed_reducer()\n",
    "using Ipopt\n",
    "set_optimizer(gm, Ipopt.Optimizer)\n",
    "nonlinearize!(gm)\n",
    "optimize!(gm)"
   ]
  }
 ],
 "metadata": {
  "kernelspec": {
   "display_name": "Julia 1.5.3",
   "language": "julia",
   "name": "julia-1.5"
  },
  "language_info": {
   "file_extension": ".jl",
   "mimetype": "application/julia",
   "name": "julia",
   "version": "1.5.3"
  }
 },
 "nbformat": 4,
 "nbformat_minor": 5
}