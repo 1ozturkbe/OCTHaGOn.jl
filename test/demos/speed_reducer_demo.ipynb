{
 "cells": [
  {
   "cell_type": "code",
   "execution_count": 1,
   "id": "delayed-static",
   "metadata": {},
   "outputs": [
    {
     "data": {
      "text/plain": [
       "pool1"
      ]
     },
     "execution_count": 1,
     "metadata": {},
     "output_type": "execute_result"
    }
   ],
   "source": [
    "include(\"../load.jl\")"
   ]
  },
  {
   "cell_type": "code",
   "execution_count": 2,
   "id": "employed-circular",
   "metadata": {},
   "outputs": [
    {
     "name": "stderr",
     "output_type": "stream",
     "text": [
      "┌ Info: bbl5 was not KNN sampled since it has no infeasible samples.\n",
      "└ @ Main.OptimalConstraintTree C:\\Users\\berko\\Code\\OptimalConstraintTree\\src\\sample.jl:153\n",
      "┌ Info: bbl8 was not KNN sampled since it has no infeasible samples.\n",
      "└ @ Main.OptimalConstraintTree C:\\Users\\berko\\Code\\OptimalConstraintTree\\src\\sample.jl:153\n",
      "┌ Info: bbl10 was not KNN sampled since it has no infeasible samples.\n",
      "└ @ Main.OptimalConstraintTree C:\\Users\\berko\\Code\\OptimalConstraintTree\\src\\sample.jl:153\n"
     ]
    },
    {
     "data": {
      "text/plain": [
       "GlobalModel speed_reducer with 8 variables: \n",
       "Has 10 BlackBoxLearners.\n"
      ]
     },
     "execution_count": 2,
     "metadata": {},
     "output_type": "execute_result"
    }
   ],
   "source": [
    "gm = speed_reducer()\n",
    "uniform_sample_and_eval!(gm)\n",
    "gm"
   ]
  },
  {
   "cell_type": "code",
   "execution_count": 3,
   "id": "unlikely-thursday",
   "metadata": {},
   "outputs": [
    {
     "name": "stderr",
     "output_type": "stream",
     "text": [
      "┌ Warning: This copy of Interpretable AI software is for academic purposes only and not for commercial use.\n",
      "└ @ IAILicensing C:\\Users\\iai\\builds\\InterpretableAI\\SystemImage\\SysImgBuilder\\.julia\\packages\\IAILicensing\\1kPoM\\src\\precompile.jl:19\n",
      "\u001b[32mTraining trees...                  100%|████████████████| Time: 0:00:01\u001b[39m\n",
      "┌ Info: BBC bbl9 has passed threshold feasibility 0.15, from 0.0243 to 0.508.\n",
      "└ @ Main.OptimalConstraintTree C:\\Users\\berko\\Code\\OptimalConstraintTree\\src\\sample.jl:252\n"
     ]
    }
   ],
   "source": [
    "feasibility_sample(gm)"
   ]
  },
  {
   "cell_type": "code",
   "execution_count": 4,
   "id": "expensive-refund",
   "metadata": {},
   "outputs": [
    {
     "name": "stderr",
     "output_type": "stream",
     "text": [
      "\u001b[32mTraining trees...                  100%|████████████████| Time: 0:00:00\u001b[39m\n",
      "\u001b[32mTraining trees...                  100%|████████████████| Time: 0:00:00\u001b[39m\n",
      "\u001b[32mTraining trees...                  100%|████████████████| Time: 0:00:00\u001b[39m\n",
      "\u001b[32mTraining trees...                  100%|████████████████| Time: 0:00:00\u001b[39m\n",
      "\u001b[32mTraining trees...                  100%|████████████████| Time: 0:00:00\u001b[39m\n",
      "\u001b[32mTraining trees...                  100%|████████████████| Time: 0:00:00\u001b[39m\n",
      "\u001b[32mTraining trees...                  100%|████████████████| Time: 0:00:00\u001b[39m\n",
      "\u001b[32mTraining trees...                  100%|████████████████| Time: 0:00:00\u001b[39m\n",
      "\u001b[32mTraining trees...                  100%|████████████████| Time: 0:00:00\u001b[39m\n",
      "\u001b[32mTraining trees...                  100%|████████████████| Time: 0:00:01\u001b[39m\n"
     ]
    },
    {
     "data": {
      "text/html": [
       "<table class=\"data-frame\"><thead><tr><th></th><th>x[1]</th><th>x[2]</th><th>x[3]</th><th>x[4]</th><th>x[5]</th><th>x[6]</th><th>x[7]</th><th>x[8]</th></tr><tr><th></th><th>Float64</th><th>Float64</th><th>Float64</th><th>Float64</th><th>Float64</th><th>Float64</th><th>Float64</th><th>Float64</th></tr></thead><tbody><p>1 rows × 8 columns</p><tr><th>1</th><td>3.51437</td><td>0.704063</td><td>17.0</td><td>7.3</td><td>7.3</td><td>3.34741</td><td>5.2853</td><td>2991.02</td></tr></tbody></table>"
      ],
      "text/latex": [
       "\\begin{tabular}{r|cccccccc}\n",
       "\t& x[1] & x[2] & x[3] & x[4] & x[5] & x[6] & x[7] & x[8]\\\\\n",
       "\t\\hline\n",
       "\t& Float64 & Float64 & Float64 & Float64 & Float64 & Float64 & Float64 & Float64\\\\\n",
       "\t\\hline\n",
       "\t1 & 3.51437 & 0.704063 & 17.0 & 7.3 & 7.3 & 3.34741 & 5.2853 & 2991.02 \\\\\n",
       "\\end{tabular}\n"
      ],
      "text/plain": [
       "\u001b[1m1×8 DataFrame\u001b[0m\n",
       "\u001b[1m Row \u001b[0m│\u001b[1m x[1]    \u001b[0m\u001b[1m x[2]     \u001b[0m\u001b[1m x[3]    \u001b[0m\u001b[1m x[4]    \u001b[0m\u001b[1m x[5]    \u001b[0m\u001b[1m x[6]    \u001b[0m\u001b[1m x[7]    \u001b[0m\u001b[1m x[8]   \u001b[0m ⋯\n",
       "\u001b[1m     \u001b[0m│\u001b[90m Float64 \u001b[0m\u001b[90m Float64  \u001b[0m\u001b[90m Float64 \u001b[0m\u001b[90m Float64 \u001b[0m\u001b[90m Float64 \u001b[0m\u001b[90m Float64 \u001b[0m\u001b[90m Float64 \u001b[0m\u001b[90m Float64\u001b[0m ⋯\n",
       "─────┼──────────────────────────────────────────────────────────────────────────\n",
       "   1 │ 3.51437  0.704063     17.0      7.3      7.3  3.34741   5.2853  2991.02 ⋯"
      ]
     },
     "execution_count": 4,
     "metadata": {},
     "output_type": "execute_result"
    }
   ],
   "source": [
    "surveysolve(gm)\n",
    "solution(gm)"
   ]
  },
  {
   "cell_type": "code",
   "execution_count": 5,
   "id": "medical-boulder",
   "metadata": {},
   "outputs": [
    {
     "name": "stdout",
     "output_type": "stream",
     "text": [
      "\n",
      "******************************************************************************\n",
      "This program contains Ipopt, a library for large-scale nonlinear optimization.\n",
      " Ipopt is released as open source code under the Eclipse Public License (EPL).\n",
      "         For more information visit http://projects.coin-or.org/Ipopt\n",
      "******************************************************************************\n",
      "\n",
      "This is Ipopt version 3.13.2, running with linear solver mumps.\n",
      "NOTE: Other linear solvers might be more efficient (see Ipopt documentation).\n",
      "\n",
      "Number of nonzeros in equality constraint Jacobian...:        0\n",
      "Number of nonzeros in inequality constraint Jacobian.:       82\n",
      "Number of nonzeros in Lagrangian Hessian.............:        0\n",
      "\n",
      "Total number of variables............................:        8\n",
      "                     variables with only lower bounds:        0\n",
      "                variables with lower and upper bounds:        8\n",
      "                     variables with only upper bounds:        0\n",
      "Total number of equality constraints.................:        0\n",
      "Total number of inequality constraints...............:       11\n",
      "        inequality constraints with only lower bounds:       10\n",
      "   inequality constraints with lower and upper bounds:        0\n",
      "        inequality constraints with only upper bounds:        1\n",
      "\n",
      "iter    objective    inf_pr   inf_du lg(mu)  ||d||  lg(rg) alpha_du alpha_pr  ls\n",
      "   0  9.9999900e-03 2.38e+03 1.05e+00   0.0 0.00e+00    -  0.00e+00 0.00e+00   0\n",
      "   1  1.0288868e-02 2.38e+03 1.04e+00  -3.7 1.00e+02    -  6.01e-04 3.24e-04h  1\n",
      "   2  1.2959227e-02 2.38e+03 1.39e+02   1.6 4.07e+02    -  1.85e-03 6.54e-05f  1\n",
      "   3  1.9672731e-02 2.38e+03 2.10e+02   0.6 2.38e+02    -  3.27e-04 1.77e-04h  1\n",
      "   4  2.9913230e+00 2.38e+03 4.59e+02   4.3 1.25e+05    -  1.04e-05 2.39e-05f  1\n",
      "   5  3.0131030e+00 2.38e+03 1.37e+03  -3.7 7.78e+01    -  3.67e-02 2.80e-04h  1\n",
      "   6  5.2490965e+00 2.37e+03 5.05e+05   1.9 1.37e+03    -  1.00e+00 1.64e-03h  1\n",
      "   7  7.4539708e+01 2.31e+03 2.71e+05   4.1 2.72e+03    -  2.42e-03 2.55e-02f  1\n",
      "   8  1.0341923e+02 2.29e+03 3.84e+05   3.3 2.58e+03    -  7.79e-02 1.12e-02h  1\n",
      "   9  2.5249229e+02 2.16e+03 1.10e+06   3.6 2.75e+03    -  1.69e-01 5.41e-02f  1\n",
      "iter    objective    inf_pr   inf_du lg(mu)  ||d||  lg(rg) alpha_du alpha_pr  ls\n",
      "  10  3.1583448e+02 2.11e+03 2.88e+06  -3.0 2.57e+03    -  6.02e-02 2.46e-02h  1\n",
      "  11  2.9707589e+03 7.12e+01 1.63e+07   3.5 2.65e+03    -  2.65e-01 1.00e+00f  1\n",
      "  12  3.0392512e+03 0.00e+00 1.39e+04   2.8 6.85e+01    -  8.74e-01 1.00e+00f  1\n",
      "  13  3.0411275e+03 0.00e+00 7.34e+00   1.1 1.88e+00    -  1.00e+00 1.00e+00h  1\n",
      "  14  3.0278955e+03 0.00e+00 5.23e+01   0.3 1.32e+01    -  9.99e-01 1.00e+00f  1\n",
      "  15  2.9891569e+03 0.00e+00 9.54e+00  -0.4 3.91e+01    -  1.00e+00 9.92e-01f  1\n",
      "  16  2.9857795e+03 0.00e+00 2.63e+00  -1.9 3.95e+00    -  9.98e-01 8.55e-01f  1\n",
      "  17  2.9852467e+03 0.00e+00 1.73e-01  -2.8 5.33e-01    -  1.00e+00 1.00e+00f  1\n",
      "  18  2.9852346e+03 0.00e+00 5.94e-05  -4.7 1.21e-02    -  1.00e+00 1.00e+00f  1\n",
      "  19  2.9852344e+03 0.00e+00 4.09e-08 -10.7 1.62e-04    -  1.00e+00 1.00e+00h  1\n",
      "iter    objective    inf_pr   inf_du lg(mu)  ||d||  lg(rg) alpha_du alpha_pr  ls\n",
      "  20  2.9852344e+03 0.00e+00 1.08e-12 -11.0 5.18e-09    -  1.00e+00 1.00e+00h  1\n",
      "\n",
      "Number of Iterations....: 20\n",
      "\n",
      "                                   (scaled)                 (unscaled)\n",
      "Objective...............:   2.9852344310712333e+03    2.9852344310712333e+03\n",
      "Dual infeasibility......:   1.0800249583553523e-12    1.0800249583553523e-12\n",
      "Constraint violation....:   0.0000000000000000e+00    0.0000000000000000e+00\n",
      "Complementarity.........:   1.0064676678276336e-11    1.0064676678276336e-11\n",
      "Overall NLP error.......:   3.8819818829801812e-12    1.0064676678276336e-11\n",
      "\n",
      "\n",
      "Number of objective function evaluations             = 21\n",
      "Number of objective gradient evaluations             = 21\n",
      "Number of equality constraint evaluations            = 0\n",
      "Number of inequality constraint evaluations          = 21\n",
      "Number of equality constraint Jacobian evaluations   = 0\n",
      "Number of inequality constraint Jacobian evaluations = 21\n",
      "Number of Lagrangian Hessian evaluations             = 0\n",
      "Total CPU secs in IPOPT (w/o function evaluations)   =      5.690\n",
      "Total CPU secs in NLP function evaluations           =      0.090\n",
      "\n",
      "EXIT: Optimal Solution Found.\n"
     ]
    }
   ],
   "source": [
    "gm = speed_reducer()\n",
    "using Ipopt\n",
    "set_optimizer(gm, Ipopt.Optimizer)\n",
    "nonlinearize!(gm)\n",
    "optimize!(gm)"
   ]
  },
  {
   "cell_type": "code",
   "execution_count": 6,
   "id": "floating-romantic",
   "metadata": {},
   "outputs": [
    {
     "data": {
      "text/html": [
       "<table class=\"data-frame\"><thead><tr><th></th><th>x[1]</th><th>x[2]</th><th>x[3]</th><th>x[4]</th><th>x[5]</th><th>x[6]</th><th>x[7]</th><th>x[8]</th></tr><tr><th></th><th>Float64</th><th>Float64</th><th>Float64</th><th>Float64</th><th>Float64</th><th>Float64</th><th>Float64</th><th>Float64</th></tr></thead><tbody><p>1 rows × 8 columns</p><tr><th>1</th><td>3.5</td><td>0.7</td><td>17.0</td><td>7.3</td><td>7.3</td><td>3.35054</td><td>5.28652</td><td>2985.23</td></tr></tbody></table>"
      ],
      "text/latex": [
       "\\begin{tabular}{r|cccccccc}\n",
       "\t& x[1] & x[2] & x[3] & x[4] & x[5] & x[6] & x[7] & x[8]\\\\\n",
       "\t\\hline\n",
       "\t& Float64 & Float64 & Float64 & Float64 & Float64 & Float64 & Float64 & Float64\\\\\n",
       "\t\\hline\n",
       "\t1 & 3.5 & 0.7 & 17.0 & 7.3 & 7.3 & 3.35054 & 5.28652 & 2985.23 \\\\\n",
       "\\end{tabular}\n"
      ],
      "text/plain": [
       "\u001b[1m1×8 DataFrame\u001b[0m\n",
       "\u001b[1m Row \u001b[0m│\u001b[1m x[1]    \u001b[0m\u001b[1m x[2]    \u001b[0m\u001b[1m x[3]    \u001b[0m\u001b[1m x[4]    \u001b[0m\u001b[1m x[5]    \u001b[0m\u001b[1m x[6]    \u001b[0m\u001b[1m x[7]    \u001b[0m\u001b[1m x[8]    \u001b[0m\n",
       "\u001b[1m     \u001b[0m│\u001b[90m Float64 \u001b[0m\u001b[90m Float64 \u001b[0m\u001b[90m Float64 \u001b[0m\u001b[90m Float64 \u001b[0m\u001b[90m Float64 \u001b[0m\u001b[90m Float64 \u001b[0m\u001b[90m Float64 \u001b[0m\u001b[90m Float64 \u001b[0m\n",
       "─────┼────────────────────────────────────────────────────────────────────────\n",
       "   1 │     3.5      0.7     17.0      7.3      7.3  3.35054  5.28652  2985.23"
      ]
     },
     "execution_count": 6,
     "metadata": {},
     "output_type": "execute_result"
    }
   ],
   "source": [
    "solution(gm)"
   ]
  }
 ],
 "metadata": {
  "kernelspec": {
   "display_name": "Julia 1.5.3",
   "language": "julia",
   "name": "julia-1.5"
  },
  "language_info": {
   "file_extension": ".jl",
   "mimetype": "application/julia",
   "name": "julia",
   "version": "1.5.3"
  }
 },
 "nbformat": 4,
 "nbformat_minor": 5
}
