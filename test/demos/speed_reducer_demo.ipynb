{
 "cells": [
  {
   "cell_type": "code",
   "execution_count": null,
   "source": [
    "include(\"../load.jl\")"
   ],
   "outputs": [],
   "metadata": {}
  },
  {
   "cell_type": "code",
   "execution_count": null,
   "source": [
    "include(\"../../data/speed_reducer.jl\")"
   ],
   "outputs": [],
   "metadata": {}
  },
  {
   "cell_type": "code",
   "execution_count": null,
   "source": [
    "gm = speed_reducer()\r\n",
    "uniform_sample_and_eval!(gm)\r\n",
    "set_param(gm, :ignore_accuracy, true)"
   ],
   "outputs": [],
   "metadata": {}
  },
  {
   "cell_type": "code",
   "execution_count": null,
   "source": [
    "feasibility_sample(gm)"
   ],
   "outputs": [],
   "metadata": {}
  },
  {
   "cell_type": "code",
   "execution_count": null,
   "source": [
    "learn_constraint!(gm, max_depth=5)\r\n",
    "add_tree_constraints!(gm)\r\n",
    "optimize!(gm)\r\n",
    "solution(gm)"
   ],
   "outputs": [],
   "metadata": {}
  },
  {
   "cell_type": "code",
   "execution_count": null,
   "source": [
    "add_infeasibility_cuts!(gm)\r\n",
    "optimize!(gm)\r\n",
    "while abs(gm.cost[end] - gm.cost[end-1]) > 1e-10\r\n",
    "    add_infeasibility_cuts!(gm)\r\n",
    "    optimize!(gm)\r\n",
    "end"
   ],
   "outputs": [],
   "metadata": {
    "tags": []
   }
  },
  {
   "cell_type": "code",
   "execution_count": null,
   "source": [
    "# Showing the iterations\r\n",
    "show(stdout, MIME(\"text/latex\"), gm.solution_history)\r\n",
    "IAI.score(gm.bbls[1].learners[end], gm.bbls[1].X, gm.bbls[1].Y)"
   ],
   "outputs": [],
   "metadata": {}
  },
  {
   "cell_type": "code",
   "execution_count": null,
   "source": [
    "# Checking that the solution is feasible\r\n",
    "x = solution(gm)\r\n",
    "for bbl in gm.bbls\r\n",
    "    println(bbl.feas_gap[end])\r\n",
    "end\r\n",
    "IAI.show_in_browser(gm.bbls[6].learners[end])\r\n",
    "# gm.bbls[6].constraint"
   ],
   "outputs": [],
   "metadata": {}
  },
  {
   "cell_type": "code",
   "execution_count": null,
   "source": [],
   "outputs": [],
   "metadata": {}
  },
  {
   "cell_type": "code",
   "execution_count": null,
   "source": [
    "m = speed_reducer()\r\n",
    "uniform_sample_and_eval!(m)\r\n",
    "unset_integer(m.model[:x][3])\r\n",
    "using Ipopt\r\n",
    "set_optimizer(m, Ipopt.Optimizer)\r\n",
    "set_optimizer_attribute(m.model, \"constr_viol_tol\", 1e-7)\r\n",
    "nonlinearize!(m)\r\n",
    "optimize!(m)"
   ],
   "outputs": [],
   "metadata": {}
  },
  {
   "cell_type": "code",
   "execution_count": null,
   "source": [
    "x = solution(m)"
   ],
   "outputs": [],
   "metadata": {}
  },
  {
   "cell_type": "code",
   "execution_count": null,
   "source": [
    "for bbl in m.bbls\r\n",
    "    # @assert bbl(x)[1] == bbl.feas_gap[end] >= 0\r\n",
    "    println(bbl.feas_gap[end])\r\n",
    "end\r\n",
    "(1 - m.bbls[1].feas_gap[end]) * m.bbls[1].actuals[end]"
   ],
   "outputs": [],
   "metadata": {}
  },
  {
   "cell_type": "code",
   "execution_count": null,
   "source": [
    "m[x]"
   ],
   "outputs": [],
   "metadata": {}
  }
 ],
 "metadata": {
  "@webio": {
   "lastCommId": null,
   "lastKernelId": null
  },
  "kernelspec": {
   "display_name": "Julia 1.5.3",
   "language": "julia",
   "name": "julia-1.5"
  },
  "language_info": {
   "file_extension": ".jl",
   "mimetype": "application/julia",
   "name": "julia",
   "version": "1.5.3"
  }
 },
 "nbformat": 4,
 "nbformat_minor": 5
}