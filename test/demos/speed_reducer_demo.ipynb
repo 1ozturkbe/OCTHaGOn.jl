{
 "cells": [
  {
   "cell_type": "code",
   "execution_count": null,
   "id": "delayed-static",
   "metadata": {},
   "outputs": [],
   "source": [
    "include(\"../load.jl\")"
   ]
  },
  {
   "cell_type": "code",
   "execution_count": null,
   "id": "exterior-fifty",
   "metadata": {},
   "outputs": [],
   "source": [
    "include(\"../../data/speed_reducer.jl\")"
   ]
  },
  {
   "cell_type": "code",
   "execution_count": null,
   "id": "employed-circular",
   "metadata": {},
   "outputs": [],
   "source": [
    "gm = speed_reducer()\n",
    "uniform_sample_and_eval!(gm)\n",
    "set_param(gm, :ignore_accuracy, true)"
   ]
  },
  {
   "cell_type": "code",
   "execution_count": null,
   "id": "unlikely-thursday",
   "metadata": {},
   "outputs": [],
   "source": [
    "feasibility_sample(gm)"
   ]
  },
  {
   "cell_type": "code",
   "execution_count": null,
   "id": "expensive-refund",
   "metadata": {},
   "outputs": [],
   "source": [
    "learn_constraint!(gm)\n",
    "add_tree_constraints!(gm)\n",
    "optimize!(gm)\n",
    "solution(gm)"
   ]
  },
  {
   "cell_type": "code",
   "execution_count": null,
   "id": "foreign-greeting",
   "metadata": {},
   "outputs": [],
   "source": [
    "add_infeasibility_cuts!(gm)\n",
    "optimize!(gm)\n",
    "while abs(gm.cost[end] - gm.cost[end-1]) > 1e-10\n",
    "    add_infeasibility_cuts!(gm)\n",
    "    optimize!(gm)\n",
    "end"
   ]
  },
  {
   "cell_type": "code",
   "execution_count": null,
   "id": "9f124044",
   "metadata": {},
   "outputs": [],
   "source": [
    "# Showing the iterations\n",
    "show(stdout, MIME(\"text/latex\"), gm.solution_history)"
   ]
  },
  {
   "cell_type": "code",
   "execution_count": null,
   "id": "b9f3b6cd",
   "metadata": {},
   "outputs": [],
   "source": [
    "# Checking that the solution is feasible\n",
    "x = solution(gm)\n",
    "for bbl in gm.bbls\n",
    "    @assert bbl(x)[1] == bbl.feas_gap[end] >= 0\n",
    "    println(bbl(x))\n",
    "end"
   ]
  },
  {
   "cell_type": "code",
   "execution_count": null,
   "id": "medical-boulder",
   "metadata": {},
   "outputs": [],
   "source": [
    "m = speed_reducer()\n",
    "using Ipopt\n",
    "set_optimizer(m, Ipopt.Optimizer)\n",
    "nonlinearize!(m)\n",
    "optimize!(m)"
   ]
  },
  {
   "cell_type": "code",
   "execution_count": null,
   "id": "floating-romantic",
   "metadata": {},
   "outputs": [],
   "source": [
    "x = solution(m)"
   ]
  },
  {
   "cell_type": "code",
   "execution_count": null,
   "id": "filled-costume",
   "metadata": {},
   "outputs": [],
   "source": [
    "for bbl in m.bbls\n",
    "    @assert bbl(x)[1] == bbl.feas_gap[end] >= 0\n",
    "    println(bbl(x))\n",
    "end"
   ]
  }
 ],
 "metadata": {
  "@webio": {
   "lastCommId": null,
   "lastKernelId": null
  },
  "kernelspec": {
   "display_name": "Julia 1.5.3",
   "language": "julia",
   "name": "julia-1.5"
  },
  "language_info": {
   "file_extension": ".jl",
   "mimetype": "application/julia",
   "name": "julia",
   "version": "1.5.3"
  }
 },
 "nbformat": 4,
 "nbformat_minor": 5
}
