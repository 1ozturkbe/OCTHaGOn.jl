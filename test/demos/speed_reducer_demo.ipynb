{
 "cells": [
  {
   "cell_type": "code",
   "execution_count": null,
   "id": "delayed-static",
   "metadata": {},
   "outputs": [],
   "source": [
    "include(\"../load.jl\")"
   ]
  },
  {
   "cell_type": "code",
   "execution_count": null,
   "id": "exterior-fifty",
   "metadata": {},
   "outputs": [],
   "source": [
    "include(\"../../data/speed_reducer.jl\")"
   ]
  },
  {
   "cell_type": "code",
   "execution_count": null,
   "id": "employed-circular",
   "metadata": {},
   "outputs": [],
   "source": [
    "gm = speed_reducer()\n",
    "uniform_sample_and_eval!(gm)\n",
    "set_param(gm, :ignore_accuracy, true)"
   ]
  },
  {
   "cell_type": "code",
   "execution_count": null,
   "id": "unlikely-thursday",
   "metadata": {},
   "outputs": [],
   "source": [
    "feasibility_sample(gm)"
   ]
  },
  {
   "cell_type": "code",
   "execution_count": null,
   "id": "expensive-refund",
   "metadata": {},
   "outputs": [],
   "source": [
    "learn_constraint!(gm, max_depth=5)\n",
    "add_tree_constraints!(gm)\n",
    "optimize!(gm)\n",
    "solution(gm)"
   ]
  },
  {
   "cell_type": "code",
   "execution_count": null,
   "id": "foreign-greeting",
   "metadata": {
    "tags": []
   },
   "outputs": [],
   "source": [
    "add_infeasibility_cuts!(gm)\n",
    "optimize!(gm)\n",
    "while abs(gm.cost[end] - gm.cost[end-1]) > 1e-10\n",
    "    add_infeasibility_cuts!(gm)\n",
    "    optimize!(gm)\n",
    "end"
   ]
  },
  {
   "cell_type": "code",
   "execution_count": null,
   "id": "9f124044",
   "metadata": {},
   "outputs": [],
   "source": [
    "# Showing the iterations\n",
    "show(stdout, MIME(\"text/latex\"), gm.solution_history)\n",
    "IAI.score(gm.bbls[1].learners[end], gm.bbls[1].X, gm.bbls[1].Y)"
   ]
  },
  {
   "cell_type": "code",
   "execution_count": null,
   "id": "b9f3b6cd",
   "metadata": {},
   "outputs": [],
   "source": [
    "# Checking that the solution is feasible\n",
    "x = solution(gm)\n",
    "for bbl in gm.bbls\n",
    "    println(bbl.feas_gap[end])\n",
    "end\n",
    "IAI.show_in_browser(gm.bbls[6].learners[end])\n",
    "# gm.bbls[6].constraint"
   ]
  },
  {
   "cell_type": "code",
   "execution_count": null,
   "metadata": {},
   "outputs": [],
   "source": []
  },
  {
   "cell_type": "code",
   "execution_count": null,
   "id": "medical-boulder",
   "metadata": {},
   "outputs": [],
   "source": [
    "m = speed_reducer()\n",
    "unset_integer(m.model[:x][3])\n",
    "using Ipopt\n",
    "set_optimizer(m, Ipopt.Optimizer)\n",
    "set_optimizer_attribute(m.model, \"constr_viol_tol\", 1e-7)\n",
    "nonlinearize!(m)\n",
    "optimize!(m)"
   ]
  },
  {
   "cell_type": "code",
   "execution_count": null,
   "id": "floating-romantic",
   "metadata": {},
   "outputs": [],
   "source": [
    "x = solution(m)"
   ]
  },
  {
   "cell_type": "code",
   "execution_count": null,
   "id": "filled-costume",
   "metadata": {},
   "outputs": [],
   "source": [
    "for bbl in m.bbls\n",
    "    # @assert bbl(x)[1] == bbl.feas_gap[end] >= 0\n",
    "    println(bbl.feas_gap[end])\n",
    "end\n",
    "(1 - m.bbls[1].feas_gap[end]) * m.bbls[1].actuals[end]"
   ]
  },
  {
   "cell_type": "code",
   "execution_count": null,
   "id": "9583decb",
   "metadata": {},
   "outputs": [],
   "source": [
    "m[x]"
   ]
  }
 ],
 "metadata": {
  "@webio": {
   "lastCommId": null,
   "lastKernelId": null
  },
  "kernelspec": {
   "display_name": "Julia 1.5.3",
   "language": "julia",
   "name": "julia-1.5"
  },
  "language_info": {
   "file_extension": ".jl",
   "mimetype": "application/julia",
   "name": "julia",
   "version": "1.5.3"
  }
 },
 "nbformat": 4,
 "nbformat_minor": 5
}