{
 "cells": [
  {
   "cell_type": "code",
   "execution_count": null,
   "id": "hundred-speaker",
   "metadata": {},
   "outputs": [],
   "source": [
    "include(\"../load.jl\")\n",
    "include(\"../tools/plots.jl\")"
   ]
  },
  {
   "cell_type": "code",
   "execution_count": null,
   "id": "legal-colombia",
   "metadata": {},
   "outputs": [],
   "source": [
    "gm = gear(true)\n",
    "uniform_sample_and_eval!(gm)\n",
    "bbrs = [bbl for bbl in gm.bbls if bbl isa BlackBoxRegressor]\n",
    "bbr = bbrs[1]\n",
    "bbr.constraint"
   ]
  },
  {
   "cell_type": "code",
   "execution_count": null,
   "id": "funny-mistress",
   "metadata": {},
   "outputs": [],
   "source": [
    "surveysolve(gm);"
   ]
  },
  {
   "cell_type": "code",
   "execution_count": null,
   "id": "continuing-biology",
   "metadata": {},
   "outputs": [],
   "source": [
    "gm.solution_history"
   ]
  },
  {
   "cell_type": "code",
   "execution_count": null,
   "id": "joint-hollywood",
   "metadata": {},
   "outputs": [],
   "source": [
    "println(\"Approximate objective: $(bbr.optima)\")\n",
    "println(\"Actual objective: $(bbr.actuals)\")"
   ]
  },
  {
   "cell_type": "code",
   "execution_count": null,
   "id": "patent-criticism",
   "metadata": {},
   "outputs": [],
   "source": [
    "# How to narrow the gap? \n",
    "learn_constraint!(bbr, \"upper\" => minimum(bbr.actuals))\n",
    "update_tree_constraints!(gm, bbr)\n",
    "upper_bound_sample(bbr)\n",
    "learn_constraint!(bbr, \"reg\" => minimum(bbr.actuals), regression_sparsity = 0, max_depth = 5)\n",
    "update_tree_constraints!(gm, bbr)\n",
    "optimize!(gm)"
   ]
  },
  {
   "cell_type": "code",
   "execution_count": null,
   "id": "hearing-cornell",
   "metadata": {},
   "outputs": [],
   "source": [
    "df = copy(gm.solution_history)\n",
    "insertcols!(df, :actual => bbr.actuals)"
   ]
  },
  {
   "cell_type": "code",
   "execution_count": null,
   "id": "emotional-maintenance",
   "metadata": {},
   "outputs": [],
   "source": [
    "# Showing upper bounding classifier\n",
    "bbr.learners[end-1]"
   ]
  },
  {
   "cell_type": "code",
   "execution_count": null,
   "id": "three-opposition",
   "metadata": {},
   "outputs": [],
   "source": [
    "# Showing regressor\n",
    "bbr.learners[end-2]"
   ]
  },
  {
   "cell_type": "code",
   "execution_count": null,
   "id": "coated-cotton",
   "metadata": {},
   "outputs": [],
   "source": [
    "m = gear(false);\n",
    "optimize!(m);\n",
    "println(\"Solution: $(solution(m)) with objective $(getobjectivevalue(m))\")"
   ]
  },
  {
   "cell_type": "code",
   "execution_count": null,
   "id": "spiritual-creek",
   "metadata": {},
   "outputs": [],
   "source": [
    "print(gm.model)"
   ]
  }
 ],
 "metadata": {
  "@webio": {
   "lastCommId": null,
   "lastKernelId": null
  },
  "kernelspec": {
   "display_name": "Julia 1.5.3",
   "language": "julia",
   "name": "julia-1.5"
  },
  "language_info": {
   "file_extension": ".jl",
   "mimetype": "application/julia",
   "name": "julia",
   "version": "1.5.3"
  }
 },
 "nbformat": 4,
 "nbformat_minor": 5
}
