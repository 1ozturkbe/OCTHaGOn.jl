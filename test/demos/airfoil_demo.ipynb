{
 "cells": [
  {
   "cell_type": "code",
   "execution_count": null,
   "id": "unable-glenn",
   "metadata": {},
   "outputs": [],
   "source": [
    "include(\"../load.jl\")"
   ]
  },
  {
   "cell_type": "code",
   "execution_count": null,
   "id": "worth-dragon",
   "metadata": {},
   "outputs": [],
   "source": [
    "using CSV, DataFrames, Statistics, Random"
   ]
  },
  {
   "cell_type": "code",
   "execution_count": null,
   "id": "saving-binding",
   "metadata": {},
   "outputs": [],
   "source": [
    "using Distributed\n",
    "addprocs(5)"
   ]
  },
  {
   "cell_type": "code",
   "execution_count": null,
   "id": "constitutional-sacrifice",
   "metadata": {},
   "outputs": [],
   "source": [
    "columns = [\"Re\", \"thick\", \"M\", \"C_L\"];\n",
    "X = CSV.read(OCT.DATA_DIR * \"airfoil/airfoil_X.csv\", DataFrame, copycols=true, header=columns, delim=\",\");\n",
    "Y = CSV.read(OCT.DATA_DIR * \"airfoil/airfoil_Y.csv\", DataFrame, copycols=true, header=[\"C_D\"], delim=\",\");\n",
    "# Re = Array(range(10000, stop=35000, step=5000));\n",
    "# thick = [100,110,120,130,140,145];\n",
    "# M = [0.4, 0.5, 0.6, 0.7, 0.8, 0.9];\n",
    "# cl = Array(range(0.35, stop=0.70, step=0.05));"
   ]
  },
  {
   "cell_type": "code",
   "execution_count": null,
   "id": "scientific-jungle",
   "metadata": {},
   "outputs": [],
   "source": [
    "# Plotting some perspectives on the data\n",
    "using Plots\n",
    "plt = Plots.plot(X[:,3], X[:,4], Y[:,1], seriestype=:scatter, markersize = 2)\n",
    "display(plt)"
   ]
  },
  {
   "cell_type": "code",
   "execution_count": null,
   "id": "demonstrated-bridges",
   "metadata": {},
   "outputs": [],
   "source": [
    "m = JuMP.Model(with_optimizer(Gurobi.Optimizer))\n",
    "gm = GlobalModel(model = m)\n",
    "add_variables_from_data!(gm, X) # Adding variables for each data column.\n",
    "add_variables_from_data!(gm, Y)\n",
    "bound_to_data!(gm, X)           # Making sure we bound both our free variables and dependent variables \n",
    "bound_to_data!(gm, Y)           # test points and observations. \n",
    "add_datadriven_constraint(gm, X, Y.C_D, name = \"drag polar\", dependent_var = gm.model[:C_D])\n",
    "gm(\"drag polar\")"
   ]
  },
  {
   "cell_type": "code",
   "execution_count": null,
   "id": "continuous-thesis",
   "metadata": {},
   "outputs": [],
   "source": [
    "learn_constraint!(gm, max_depth = 5, hyperplane_config = (sparsity=1,))\n",
    "gm(\"drag polar\").learners[end]"
   ]
  },
  {
   "cell_type": "code",
   "execution_count": null,
   "id": "placed-friend",
   "metadata": {},
   "outputs": [],
   "source": [
    "add_tree_constraints!(gm)\n",
    "gm.bbls[1].mi_constraints"
   ]
  }
 ],
 "metadata": {
  "kernelspec": {
   "display_name": "Julia 1.5.3",
   "language": "julia",
   "name": "julia-1.5"
  },
  "language_info": {
   "file_extension": ".jl",
   "mimetype": "application/julia",
   "name": "julia",
   "version": "1.5.3"
  }
 },
 "nbformat": 4,
 "nbformat_minor": 5
}
