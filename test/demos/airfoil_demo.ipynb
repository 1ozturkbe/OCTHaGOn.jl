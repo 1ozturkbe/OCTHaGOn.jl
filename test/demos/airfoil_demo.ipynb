{
 "cells": [
  {
   "cell_type": "code",
   "execution_count": null,
   "id": "unable-glenn",
   "metadata": {},
   "outputs": [],
   "source": [
    "include(\"../load.jl\")"
   ]
  },
  {
   "cell_type": "code",
   "execution_count": null,
   "id": "worth-dragon",
   "metadata": {},
   "outputs": [],
   "source": [
    "using CSV, DataFrames, Statistics, Random"
   ]
  },
  {
   "cell_type": "code",
   "execution_count": null,
   "id": "saving-binding",
   "metadata": {},
   "outputs": [],
   "source": [
    "using Distributed\n",
    "addprocs(5)"
   ]
  },
  {
   "cell_type": "code",
   "execution_count": null,
   "id": "constitutional-sacrifice",
   "metadata": {},
   "outputs": [],
   "source": [
    "columns = [\"Re\", \"thick\", \"M\", \"C_L\"];\n",
    "X = CSV.read(OCT.DATA_DIR * \"airfoil/airfoil_X.csv\", DataFrame, copycols=true, header=columns, delim=\",\");\n",
    "Y = CSV.read(OCT.DATA_DIR * \"airfoil/airfoil_Y.csv\", DataFrame, copycols=true, header=[\"C_D\"], delim=\",\");\n",
    "# Re = Array(range(10000, stop=35000, step=5000));\n",
    "# thick = [100,110,120,130,140,145];\n",
    "# M = [0.4, 0.5, 0.6, 0.7, 0.8, 0.9];\n",
    "# cl = Array(range(0.35, stop=0.70, step=0.05));"
   ]
  },
  {
   "cell_type": "code",
   "execution_count": null,
   "id": "scientific-jungle",
   "metadata": {},
   "outputs": [],
   "source": [
    "# Plotting some perspectives on the data\n",
    "using Plots\n",
    "plt = Plots.plot(X[:,3], X[:,4], Y[:,1], seriestype=:scatter, markersize = 2)\n",
    "display(plt)"
   ]
  },
  {
   "cell_type": "code",
   "execution_count": null,
   "id": "demonstrated-bridges",
   "metadata": {},
   "outputs": [],
   "source": [
    "m = JuMP.Model(with_optimizer(CPLEX_SILENT))\n",
    "gm = GlobalModel(model = m)\n",
    "add_variables_from_data!(gm, X) # Adding variables for each data column.\n",
    "add_variables_from_data!(gm, Y)\n",
    "bound_to_data!(gm, X)           # Making sure we bound both our free variables and dependent variables \n",
    "bound_to_data!(gm, Y)           # test points and observations. \n",
    "add_datadriven_constraint(gm, X, Y.C_D, name = \"drag polar\", dependent_var = gm.model[:C_D])\n",
    "gm(\"drag polar\")"
   ]
  },
  {
   "cell_type": "code",
   "execution_count": null,
   "id": "continuous-thesis",
   "metadata": {},
   "outputs": [],
   "source": [
    "learn_constraint!(gm, max_depth = 5, hyperplane_config = (sparsity=:all,))\n",
    "gm(\"drag polar\").learners[end]"
   ]
  },
  {
   "cell_type": "code",
   "execution_count": null,
   "id": "placed-friend",
   "metadata": {},
   "outputs": [],
   "source": [
    "clear_tree_constraints!(gm)\n",
    "add_tree_constraints!(gm)\n",
    "gm.bbls[1].mi_constraints"
   ]
  },
  {
   "cell_type": "code",
   "execution_count": null,
   "id": "assumed-heritage",
   "metadata": {},
   "outputs": [],
   "source": [
    "# MSE errors \n",
    "bbr = gm.bbls[1]\n",
    "lnr = bbr.learners[end]\n",
    "println(\"Log MSE of OCT:\", 1- IAI.score(lnr, bbr.X, bbr.Y, criterion=:mse))\n",
    "# MSE error of global posynomial\n",
    "Re = exp.(bbr.X[:,\"Re\"]); thickness = exp.(bbr.X[:,\"thick\"]); M = exp.(bbr.X[:,\"M\"]); \n",
    "C_L = exp.(bbr.X[:,\"C_L\"]); C_D = exp.(bbr.Y);\n",
    "CDp = 0.0470226 .* (Re).^-0.388166 .* thickness.^0.782129 .* (M).^-0.339824 .* (C_L).^0.94829 +\n",
    "    190.63 .* (Re).^-0.218175 .* thickness.^3.94137 .* (M).^19.2346 .* (C_L).^1.14997 +\n",
    "    1.62158 .* (Re).^-0.549562 .* thickness.^1.2895 .* (M).^3.03057 .* (C_L).^1.77464 +\n",
    "    2.91642e-12 .* (Re).^1.18062 .* thickness.^-1.75547 .* (M).^0.105431 .*(C_L).^-1.4407;\n",
    "CDp = CDp.^(1/1.64722);\n",
    "MSEposy = sum((log.(C_D)-log.(CDp)).^2)/size(C_D,1)\n",
    "println(\"Log MSE of global posynomial: \", MSEposy)"
   ]
  }
 ],
 "metadata": {
  "@webio": {
   "lastCommId": null,
   "lastKernelId": null
  },
  "kernelspec": {
   "display_name": "Julia 1.5.3",
   "language": "julia",
   "name": "julia-1.5"
  },
  "language_info": {
   "file_extension": ".jl",
   "mimetype": "application/julia",
   "name": "julia",
   "version": "1.5.3"
  }
 },
 "nbformat": 4,
 "nbformat_minor": 5
}
