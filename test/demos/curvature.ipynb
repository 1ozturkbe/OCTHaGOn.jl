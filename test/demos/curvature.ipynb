{
 "cells": [
  {
   "cell_type": "code",
   "execution_count": null,
   "metadata": {},
   "outputs": [],
   "source": [
    "include(\"../test/load.jl\")"
   ]
  },
  {
   "cell_type": "code",
   "execution_count": null,
   "metadata": {},
   "outputs": [],
   "source": [
    "using Plots\n",
    "using LaTeXStrings\n",
    "using JuMP"
   ]
  },
  {
   "cell_type": "code",
   "execution_count": null,
   "metadata": {},
   "outputs": [],
   "source": [
    "gm = nlp1(true)\n",
    "bbr = gm.bbls[1]\n",
    "set_param(bbr, :n_samples, 1000)\n",
    "uniform_sample_and_eval!(gm)\n",
    "classify_curvature(gm.bbls[1])"
   ]
  },
  {
   "cell_type": "code",
   "execution_count": null,
   "metadata": {},
   "outputs": [],
   "source": [
    "# Creating the GlobalModel\n",
    "m = JuMP.Model(with_optimizer(CPLEX_SILENT))\n",
    "@variable(m, -20 <= x[1:2] <= 20)\n",
    "set_lower_bound(x[2], 0)\n",
    "set_upper_bound(x[2], 10)\n",
    "@variable(m, y)\n",
    "gm = GlobalModel(model = m)\n",
    "# add_nonlinear_constraint(gm, :(x -> x[1]^2 + x[2]^2), dependent_var = y)\n",
    "# add_nonlinear_constraint(gm, :(x -> log(x[1]^2 + x[2]^2)), dependent_var = y)\n",
    "# add_nonlinear_constraint(gm, :(x -> exp(- 1/6*(x[1]^2) - 1/10*(x[2]^2))), dependent_var = y)\n",
    "# add_nonlinear_constraint(gm, :(x -> x[1] + x[2]), dependent_var = y)\n",
    "\n",
    "bbr = gm.bbls[end]\n",
    "set_param(bbr, :n_samples, 1000)\n",
    "uniform_sample_and_eval!(gm)\n",
    "classify_curvature(gm.bbls[1])"
   ]
  },
  {
   "cell_type": "code",
   "execution_count": null,
   "metadata": {
    "scrolled": true
   },
   "outputs": [],
   "source": [
    "# Curvature plot\n",
    "bbr = gm.bbls[1]\n",
    "plt3d = Plots.plot()\n",
    "for val in [-1, 0, 1]\n",
    "    idxs = findall(i -> i == val, bbr.curvatures)\n",
    "    Plots.scatter!(bbr.X[idxs,\"x[1]\"], bbr.X[idxs,\"x[2]\"], bbr.Y[idxs], markersize = 2, label = val, camera = (15,30))\n",
    "end\n",
    "xlabel!(L\"$x_1$\"); ylabel!(L\"$x_2$\"); title!(L\"$y$\")\n",
    "display(plt3d)"
   ]
  }
 ],
 "metadata": {
  "kernelspec": {
   "display_name": "Julia 1.5.3",
   "language": "julia",
   "name": "julia-1.5"
  },
  "language_info": {
   "file_extension": ".jl",
   "mimetype": "application/julia",
   "name": "julia",
   "version": "1.5.3"
  }
 },
 "nbformat": 4,
 "nbformat_minor": 4
}
