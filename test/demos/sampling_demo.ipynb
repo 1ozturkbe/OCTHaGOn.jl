{
 "cells": [
  {
   "cell_type": "code",
   "execution_count": null,
   "metadata": {},
   "outputs": [],
   "source": [
    "include(\"../load.jl\")\n",
    "include(\"../tools/plots.jl\")"
   ]
  },
  {
   "cell_type": "code",
   "execution_count": null,
   "metadata": {},
   "outputs": [],
   "source": [
    "# bbl 1\n",
    "m = Model(with_optimizer(CPLEX_SILENT))\n",
    "@variable(m, -1 <= x <= 1)\n",
    "@variable(m, -1 <= y <= 1)\n",
    "gm = GlobalModel(model = m)\n",
    "add_nonlinear_constraint(gm, :((x,y) -> x^2*(0.2-y) + y))\n",
    "bbl = gm.bbls[1]\n",
    "bbl.constraint"
   ]
  },
  {
   "cell_type": "code",
   "execution_count": null,
   "metadata": {},
   "outputs": [],
   "source": [
    "# bbl 2 \n",
    "gm = minlp(true)\n",
    "bbl = gm.bbls[1]\n",
    "bbl.constraint"
   ]
  },
  {
   "cell_type": "code",
   "execution_count": null,
   "metadata": {},
   "outputs": [],
   "source": [
    "# bbl 3 \n",
    "gm = minlp(true)\n",
    "bbl = gm.bbls[2]\n",
    "bbl.constraint"
   ]
  },
  {
   "cell_type": "code",
   "execution_count": null,
   "metadata": {},
   "outputs": [],
   "source": [
    "# bbl 1 as an objective\n",
    "m = Model(with_optimizer(CPLEX_SILENT))\n",
    "@variable(m, -1 <= x <= 1)\n",
    "@variable(m, -1 <= y <= 1)\n",
    "@variable(m, -1 <= obj <=1)\n",
    "gm = GlobalModel(model = m)\n",
    "add_nonlinear_constraint(gm, :((x,y, obj) -> obj - (x^2*(0.2-y) + y)))\n",
    "bbl = gm.bbls[1]\n",
    "bbl.constraint"
   ]
  },
  {
   "cell_type": "code",
   "execution_count": null,
   "metadata": {},
   "outputs": [],
   "source": [
    "# Uniform sampling\n",
    "uniform_sample_and_eval!(bbl, lh_iterations=10)\n",
    "plot_2d(bbl)"
   ]
  },
  {
   "cell_type": "code",
   "execution_count": null,
   "metadata": {},
   "outputs": [],
   "source": [
    "# KNN sampling\n",
    "uniform_sample_and_eval!(bbl)\n",
    "plot_2d(bbl)"
   ]
  },
  {
   "cell_type": "code",
   "execution_count": null,
   "metadata": {},
   "outputs": [],
   "source": [
    "# Vanilla training\n",
    "learn_constraint!(bbl)"
   ]
  },
  {
   "cell_type": "code",
   "execution_count": null,
   "metadata": {},
   "outputs": [],
   "source": [
    "# Plotting predictions\n",
    "plot_2d_predictions(bbl)"
   ]
  },
  {
   "cell_type": "code",
   "execution_count": null,
   "metadata": {},
   "outputs": [],
   "source": [
    "bbl.accuracies"
   ]
  },
  {
   "cell_type": "code",
   "execution_count": null,
   "metadata": {},
   "outputs": [],
   "source": [
    "show_trees(bbl)"
   ]
  },
  {
   "cell_type": "code",
   "execution_count": null,
   "metadata": {},
   "outputs": [],
   "source": []
  }
 ],
 "metadata": {
  "kernelspec": {
   "display_name": "Julia 1.5.3",
   "language": "julia",
   "name": "julia-1.5"
  },
  "language_info": {
   "file_extension": ".jl",
   "mimetype": "application/julia",
   "name": "julia",
   "version": "1.5.3"
  }
 },
 "nbformat": 4,
 "nbformat_minor": 2
}
