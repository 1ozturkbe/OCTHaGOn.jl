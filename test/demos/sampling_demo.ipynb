{
 "cells": [
  {
   "cell_type": "code",
   "execution_count": null,
   "metadata": {},
   "outputs": [],
   "source": [
    "include(\"../load.jl\")\n",
    "include(\"../tools/plots.jl\")"
   ]
  },
  {
   "cell_type": "code",
   "execution_count": null,
   "metadata": {},
   "outputs": [],
   "source": [
    "# BBF 1\n",
    "m = Model(with_optimizer(CPLEX_SILENT))\n",
    "@variable(m, -1 <= x <= 1)\n",
    "@variable(m, -1 <= y <= 1)\n",
    "gm = GlobalModel(model = m)\n",
    "add_nonlinear_constraint(gm, :((x,y) -> x^2*(0.2-y) + y))\n",
    "bbf = gm.bbfs[1]\n",
    "bbf.constraint"
   ]
  },
  {
   "cell_type": "code",
   "execution_count": null,
   "metadata": {},
   "outputs": [],
   "source": [
    "# BBF 2 \n",
    "gm = minlp(true)\n",
    "bbf = gm.bbfs[1]\n",
    "bbf.constraint"
   ]
  },
  {
   "cell_type": "code",
   "execution_count": null,
   "metadata": {},
   "outputs": [],
   "source": [
    "# BBF 3 \n",
    "gm = minlp(true)\n",
    "bbf = gm.bbfs[2]\n",
    "bbf.constraint"
   ]
  },
  {
   "cell_type": "code",
   "execution_count": null,
   "metadata": {},
   "outputs": [],
   "source": [
    "# BBF 1 as an objective\n",
    "m = Model(with_optimizer(CPLEX_SILENT))\n",
    "@variable(m, -1 <= x <= 1)\n",
    "@variable(m, -1 <= y <= 1)\n",
    "@variable(m, -1 <= obj <=1)\n",
    "gm = GlobalModel(model = m)\n",
    "add_nonlinear_constraint(gm, :((x,y, obj) -> obj - (x^2*(0.2-y) + y)))\n",
    "bbf = gm.bbfs[1]\n",
    "bbf.constraint"
   ]
  },
  {
   "cell_type": "code",
   "execution_count": null,
   "metadata": {},
   "outputs": [],
   "source": [
    "# Uniform sampling\n",
    "sample_and_eval!(bbf, lh_iterations=10)\n",
    "plot_2d(bbf)"
   ]
  },
  {
   "cell_type": "code",
   "execution_count": null,
   "metadata": {},
   "outputs": [],
   "source": [
    "# KNN sampling\n",
    "sample_and_eval!(bbf)\n",
    "plot_2d(bbf)"
   ]
  },
  {
   "cell_type": "code",
   "execution_count": null,
   "metadata": {},
   "outputs": [],
   "source": [
    "# Vanilla training\n",
    "learn_constraint!(bbf)"
   ]
  },
  {
   "cell_type": "code",
   "execution_count": null,
   "metadata": {},
   "outputs": [],
   "source": [
    "# Plotting predictions\n",
    "plot_2d_predictions(bbf)"
   ]
  },
  {
   "cell_type": "code",
   "execution_count": null,
   "metadata": {},
   "outputs": [],
   "source": [
    "bbf.accuracies"
   ]
  },
  {
   "cell_type": "code",
   "execution_count": null,
   "metadata": {},
   "outputs": [],
   "source": [
    "show_trees(bbf)"
   ]
  },
  {
   "cell_type": "code",
   "execution_count": null,
   "metadata": {},
   "outputs": [],
   "source": []
  }
 ],
 "metadata": {
  "kernelspec": {
   "display_name": "Julia 1.5.1",
   "language": "julia",
   "name": "julia-1.5"
  },
  "language_info": {
   "file_extension": ".jl",
   "mimetype": "application/julia",
   "name": "julia",
   "version": "1.5.1"
  }
 },
 "nbformat": 4,
 "nbformat_minor": 2
}