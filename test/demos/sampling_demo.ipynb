{
 "cells": [
  {
   "cell_type": "code",
   "execution_count": null,
   "metadata": {},
   "outputs": [],
   "source": [
    "include(\"../load.jl\")\n"
   ]
  },
  {
   "cell_type": "code",
   "execution_count": null,
   "metadata": {},
   "outputs": [],
   "source": [
    "# BBF 1\n",
    "m = Model(with_optimizer(CPLEX_SILENT))\n",
    "@variable(m, -1 <= x <= 1)\n",
    "@variable(m, -1 <= y <= 1)\n",
    "gm = GlobalModel(model = m)\n",
    "add_nonlinear_constraint(gm, :((x,y) -> x^2*(0.2-y) + y))\n",
    "bbf = gm.bbfs[1]\n",
    "bbf.constraint"
   ]
  },
  {
   "cell_type": "code",
   "execution_count": null,
   "metadata": {},
   "outputs": [],
   "source": [
    "# BBF 2 \n",
    "gm = minlp(true)\n",
    "bbf = gm.bbfs[1]\n",
    "bbf.constraint"
   ]
  },
  {
   "cell_type": "code",
   "execution_count": null,
   "metadata": {},
   "outputs": [],
   "source": [
    "# BBF 3 \n",
    "gm = minlp(true)\n",
    "bbf = gm.bbfs[2]\n",
    "bbf.constraint"
   ]
  },
  {
   "cell_type": "code",
   "execution_count": null,
   "metadata": {},
   "outputs": [],
   "source": [
    "# BBF 1 as an objective\n",
    "m = Model(with_optimizer(CPLEX_SILENT))\n",
    "@variable(m, -1 <= x <= 1)\n",
    "@variable(m, -1 <= y <= 1)\n",
    "@variable(m, -1 <= obj <=1)\n",
    "gm = GlobalModel(model = m)\n",
    "add_nonlinear_constraint(gm, :((x,y, obj) -> obj - (x^2*(0.2-y) + y)))\n",
    "bbf = gm.bbfs[1]\n",
    "bbf.constraint"
   ]
  },
  {
   "cell_type": "code",
   "execution_count": null,
   "metadata": {},
   "outputs": [],
   "source": [
    "using Plots\n",
    "\"\"\" Plots the feasible and infeasible samples of BBF in two axes. \"\"\"\n",
    "function plot_2d(bbf::Union{BlackBoxFunction, DataConstraint}; axis1 = 1, axis2 = 2)\n",
    "    feas_idxs = findall(x -> x .>= 0, bbf.Y)\n",
    "    infeas_idxs = findall(x -> x .< 0, bbf.Y)\n",
    "    scatter(Matrix(bbf.X)[feas_idxs,axis1], Matrix(bbf.X)[feas_idxs, axis2],\n",
    "            legend = false, color = :green,  fmt = :png)\n",
    "    scatter!(Matrix(bbf.X)[infeas_idxs, axis1], Matrix(bbf.X)[infeas_idxs, axis2],\n",
    "            title = \"Feasible vs. infeasible samples\",\n",
    "    legend = false, color = :red,  fmt = :png)\n",
    "end\n",
    "\"\"\" Plots whether or not model predictions are correct, in 2D. \"\"\"\n",
    "function plot_2d_predictions(bbf::Union{BlackBoxFunction, DataConstraint}; axis1 = 1, axis2 = 2)\n",
    "    Y = IAI.predict(bbf.learners[end], bbf.X)\n",
    "    trues = [i for i=1:length(Y) if Y[i] == (bbf.Y[i] >= 0)];\n",
    "    falses = [i for i=1:length(Y) if Y[i] != (bbf.Y[i] >= 0)];\n",
    "    scatter(Matrix(bbf.X)[trues, axis1], Matrix(bbf.X)[trues, axis2], legend = false,\n",
    "            color = :purple,  fmt = :png)\n",
    "    scatter!(Matrix(bbf.X)[falses, axis1], Matrix(bbf.X)[falses, axis2], legend = false,\n",
    "             title = \"Correct vs. incorrect predictions\",\n",
    "             color = :yellow,  fmt = :png)\n",
    "end"
   ]
  },
  {
   "cell_type": "code",
   "execution_count": null,
   "metadata": {},
   "outputs": [],
   "source": [
    "# Uniform sampling\n",
    "sample_and_eval!(bbf, lh_iterations=10)\n",
    "plot_2d(bbf)"
   ]
  },
  {
   "cell_type": "code",
   "execution_count": null,
   "metadata": {},
   "outputs": [],
   "source": [
    "# KNN sampling\n",
    "sample_and_eval!(bbf)\n",
    "plot_2d(bbf)"
   ]
  },
  {
   "cell_type": "code",
   "execution_count": null,
   "metadata": {},
   "outputs": [],
   "source": [
    "# Vanilla training\n",
    "learn_constraint!(bbf)"
   ]
  },
  {
   "cell_type": "code",
   "execution_count": null,
   "metadata": {},
   "outputs": [],
   "source": [
    "# Plotting predictions\n",
    "plot_2d_predictions(bbf)"
   ]
  },
  {
   "cell_type": "code",
   "execution_count": null,
   "metadata": {},
   "outputs": [],
   "source": [
    "bbf.accuracies"
   ]
  },
  {
   "cell_type": "code",
   "execution_count": null,
   "metadata": {},
   "outputs": [],
   "source": [
    "show_trees(bbf)"
   ]
  },
  {
   "cell_type": "code",
   "execution_count": null,
   "metadata": {},
   "outputs": [],
   "source": []
  }
 ],
 "metadata": {
  "kernelspec": {
   "display_name": "Julia 1.5.1",
   "language": "julia",
   "name": "julia-1.5"
  },
  "language_info": {
   "file_extension": ".jl",
   "mimetype": "application/julia",
   "name": "julia",
   "version": "1.5.1"
  }
 },
 "nbformat": 4,
 "nbformat_minor": 2
}