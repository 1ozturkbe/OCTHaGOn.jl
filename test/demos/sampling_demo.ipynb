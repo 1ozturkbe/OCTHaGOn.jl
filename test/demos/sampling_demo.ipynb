{
 "cells": [
  {
   "cell_type": "code",
   "execution_count": null,
   "source": [
    "include(\"../load.jl\")\r\n",
    "include(\"../tools/plots.jl\")"
   ],
   "outputs": [],
   "metadata": {}
  },
  {
   "cell_type": "code",
   "execution_count": null,
   "source": [
    "# bbl 1 (DO THIS ONE FIRST)\r\n",
    "m = Model(with_optimizer(CPLEX_SILENT))\r\n",
    "@variable(m, -1 <= x <= 1)\r\n",
    "@variable(m, -1 <= y <= 1)\r\n",
    "gm = GlobalModel(model = m)\r\n",
    "add_nonlinear_constraint(gm, :((x,y) -> x^2*(0.2-y) + y))\r\n",
    "bbl = gm.bbls[1]\r\n",
    "bbl.constraint"
   ],
   "outputs": [],
   "metadata": {}
  },
  {
   "cell_type": "code",
   "execution_count": null,
   "source": [
    "# bbl 2 (THEN THIS ONE)\r\n",
    "gm = minlp(true)\r\n",
    "bbl = gm.bbls[1]\r\n",
    "bbl.constraint"
   ],
   "outputs": [],
   "metadata": {}
  },
  {
   "cell_type": "code",
   "execution_count": null,
   "source": [
    "# bbl 3 \r\n",
    "gm = minlp(true)\r\n",
    "bbl = gm.bbls[2]\r\n",
    "bbl.constraint"
   ],
   "outputs": [],
   "metadata": {}
  },
  {
   "cell_type": "code",
   "execution_count": null,
   "source": [
    "# bbl 1 as an objective\r\n",
    "m = Model(with_optimizer(CPLEX_SILENT))\r\n",
    "@variable(m, -1 <= x <= 1)\r\n",
    "@variable(m, -1 <= y <= 1)\r\n",
    "@variable(m, -1 <= obj <=1)\r\n",
    "gm = GlobalModel(model = m)\r\n",
    "add_nonlinear_constraint(gm, :((x,y, obj) -> obj - (x^2*(0.2-y) + y)))\r\n",
    "bbl = gm.bbls[1]\r\n",
    "bbl.constraint"
   ],
   "outputs": [],
   "metadata": {}
  },
  {
   "cell_type": "code",
   "execution_count": null,
   "source": [
    "# Uniform sampling\r\n",
    "df = boundary_sample(bbl, fraction = 0.5)\r\n",
    "eval!(bbl, df)\r\n",
    "plot_2d(bbl)"
   ],
   "outputs": [],
   "metadata": {}
  },
  {
   "cell_type": "code",
   "execution_count": null,
   "source": [
    "# LH sampling\r\n",
    "df = lh_sample(bbl, lh_iterations = 10, n_samples = get_param(bbl, :n_samples) - size(df, 1))\r\n",
    "eval!(bbl, df);\r\n",
    "plot_2d(bbl)"
   ],
   "outputs": [],
   "metadata": {}
  },
  {
   "cell_type": "code",
   "execution_count": null,
   "source": [
    "df = knn_sample(bbl)\r\n",
    "if size(df, 1) > 0\r\n",
    "    eval!(bbl, df)\r\n",
    "end\r\n",
    "plot_2d(bbl)"
   ],
   "outputs": [],
   "metadata": {}
  },
  {
   "cell_type": "code",
   "execution_count": null,
   "source": [
    "# Vanilla training\r\n",
    "learn_constraint!(bbl)"
   ],
   "outputs": [],
   "metadata": {}
  },
  {
   "cell_type": "code",
   "execution_count": null,
   "source": [
    "# Plotting predictions\r\n",
    "plot_2d_predictions(bbl)"
   ],
   "outputs": [],
   "metadata": {}
  },
  {
   "cell_type": "code",
   "execution_count": null,
   "source": [
    "bbl.accuracies"
   ],
   "outputs": [],
   "metadata": {}
  },
  {
   "cell_type": "code",
   "execution_count": null,
   "source": [
    "bbl.mi_constraints"
   ],
   "outputs": [],
   "metadata": {}
  }
 ],
 "metadata": {
  "kernelspec": {
   "display_name": "Julia 1.5.3",
   "language": "julia",
   "name": "julia-1.5"
  },
  "language_info": {
   "file_extension": ".jl",
   "mimetype": "application/julia",
   "name": "julia",
   "version": "1.5.3"
  }
 },
 "nbformat": 4,
 "nbformat_minor": 2
}