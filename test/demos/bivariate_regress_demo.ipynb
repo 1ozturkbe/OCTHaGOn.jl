{
 "cells": [
  {
   "cell_type": "code",
   "execution_count": null,
   "metadata": {},
   "outputs": [],
   "source": [
    "# Imports\n",
    "using JuMP, Plots, Gurobi, Statistics\n",
    "include(\"../test/load.jl\")\n",
    "include(\"../test/tools/plots.jl\")"
   ]
  },
  {
   "cell_type": "code",
   "execution_count": null,
   "metadata": {},
   "outputs": [],
   "source": [
    "# Generating model\n",
    "m = JuMP.Model(with_optimizer(Gurobi.Optimizer))\n",
    "fn = :(x -> max(0, x[1] - 2 - 0.1*x[1]*x[2]^2, x[2] - 2))\n",
    "@variable(m, x[1:2])\n",
    "@variable(m, y)\n",
    "gm = GlobalModel(model = m)\n",
    "add_nonlinear_constraint(gm, fn, dependent_var = y)\n",
    "set_param(gm.bbls[1], :n_samples, 1000)\n",
    "bound!(gm, Dict(x[1] => [1, 5], x[2] => [1, 5]))"
   ]
  },
  {
   "cell_type": "code",
   "execution_count": null,
   "metadata": {},
   "outputs": [],
   "source": [
    "uniform_sample_and_eval!(gm.bbls[1], lh_iterations=100)"
   ]
  },
  {
   "cell_type": "code",
   "execution_count": null,
   "metadata": {},
   "outputs": [],
   "source": [
    "# Plotting data\n",
    "plot_2d(gm.bbls[1], axes = [2,1])"
   ]
  },
  {
   "cell_type": "code",
   "execution_count": null,
   "metadata": {},
   "outputs": [],
   "source": [
    "@time learn_constraint!(gm, hyperplane_config = (sparsity=1,))\n",
    "gm.bbls[1].learners[end]"
   ]
  },
  {
   "cell_type": "code",
   "execution_count": null,
   "metadata": {},
   "outputs": [],
   "source": [
    "# Plotting actual vs. predictions\n",
    "using Statistics\n",
    "using Plots\n",
    "bbl = gm.bbls[1]\n",
    "lnr = bbl.learners[end]\n",
    "Ypredict = IAI.predict(lnr, bbl.X)\n",
    "leaves = find_leaves(lnr)\n",
    "leaf_index = IAI.apply(lnr, bbl.X)\n",
    "display(Plots.plot(bbl.X[:,2], bbl.X[:,1], Ypredict,\n",
    "     seriestype=:scatter, markersize = 3, zcolor=leaf_index, seriescolor=:phase, camera=(10,50), legend=false));\n",
    "print(\"MSE: \", mean((Ypredict-bbl.Y).^2))"
   ]
  },
  {
   "cell_type": "code",
   "execution_count": null,
   "metadata": {},
   "outputs": [],
   "source": [
    "# Plotting errors\n",
    "display(Plots.plot(bbl.X[:,2], bbl.X[:,1], bbl.Y .- Ypredict,\n",
    "     seriestype=:scatter, markersize = 3, zcolor=leaf_index, seriescolor=:phase, camera=(10,50), legend=false));"
   ]
  },
  {
   "cell_type": "code",
   "execution_count": null,
   "metadata": {},
   "outputs": [],
   "source": []
  }
 ],
 "metadata": {
  "@webio": {
   "lastCommId": null,
   "lastKernelId": null
  },
  "kernelspec": {
   "display_name": "Julia 1.5.3",
   "language": "julia",
   "name": "julia-1.5"
  },
  "language_info": {
   "file_extension": ".jl",
   "mimetype": "application/julia",
   "name": "julia",
   "version": "1.5.3"
  }
 },
 "nbformat": 4,
 "nbformat_minor": 4
}
