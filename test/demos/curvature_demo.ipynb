{
 "cells": [
  {
   "cell_type": "code",
   "execution_count": null,
   "source": [
    "include(\"../load.jl\")"
   ],
   "outputs": [],
   "metadata": {}
  },
  {
   "cell_type": "code",
   "execution_count": null,
   "source": [
    "using Plots\r\n",
    "using LaTeXStrings\r\n",
    "using JuMP"
   ],
   "outputs": [],
   "metadata": {}
  },
  {
   "cell_type": "code",
   "execution_count": null,
   "source": [
    "# Creating the GlobalModel\r\n",
    "m = JuMP.Model(with_optimizer(CPLEX_SILENT))\r\n",
    "# @variable(m, -20 <= x[1:2] <= 20)\r\n",
    "# set_lower_bound(x[2], 0)\r\n",
    "# set_upper_bound(x[2], 10)\r\n",
    "@variable(m, 1 <= x[1:2] <= 5)\r\n",
    "@variable(m, y)\r\n",
    "gm = GlobalModel(model = m)\r\n",
    "# add_nonlinear_constraint(gm, :(x -> x[1]^2 + x[2]^2), dependent_var = y)\r\n",
    "# add_nonlinear_constraint(gm, :(x -> log(x[1]^2 + x[2]^2)), dependent_var = y)\r\n",
    "# add_nonlinear_constraint(gm, :(x -> exp(- 1/6*(x[1]^2) - 1/10*(x[2]^2))), dependent_var = y)\r\n",
    "# add_nonlinear_constraint(gm, :(x -> x[1] + x[2]), dependent_var = y)\r\n",
    "# add_nonlinear_constraint(gm, :(x -> x[1]^4*x[2]^2 + x[1]^2*x[2]^4 - 3*x[1]^2*x[2]^2 + 1), dependent_var = y)\r\n",
    "add_nonlinear_constraint(gm, :(x -> max(0, x[1] - 2 - 0.1*x[1]*x[2]^2, x[2] - 2)), dependent_var = y)\r\n",
    "bbr = gm.bbls[end]\r\n",
    "set_param(bbr, :n_samples, 500)\r\n",
    "uniform_sample_and_eval!(gm, lh_iterations=20)\r\n",
    "classify_curvature(bbr)"
   ],
   "outputs": [],
   "metadata": {}
  },
  {
   "cell_type": "code",
   "execution_count": null,
   "source": [
    "# Curvature plot\r\n",
    "bbr = gm.bbls[1]\r\n",
    "plt3d = Plots.plot()\r\n",
    "for val in [-1, 0, 1]\r\n",
    "    idxs = findall(i -> i == val, bbr.curvatures)\r\n",
    "    Plots.scatter!(bbr.X[idxs,\"x[2]\"], bbr.X[idxs,\"x[1]\"], bbr.Y[idxs], markersize = 2, label = val, camera = (10,50))\r\n",
    "end\r\n",
    "xlabel!(L\"$x_2$\"); ylabel!(L\"$x_1$\"); title!(L\"$y$\")\r\n",
    "display(plt3d)"
   ],
   "outputs": [],
   "metadata": {
    "scrolled": true
   }
  },
  {
   "cell_type": "code",
   "execution_count": null,
   "source": [
    "# We can train trees over the curvatures\r\n",
    "lnr = base_classifier()\r\n",
    "kwargs = Dict()\r\n",
    "nl, score = OCTHaGOn.learn_from_data!(bbr.X, bbr.curvatures .> 0, lnr; fit_classifier_kwargs(; kwargs...)...)"
   ],
   "outputs": [],
   "metadata": {}
  },
  {
   "cell_type": "code",
   "execution_count": null,
   "source": [
    "# Plotting convexity\r\n",
    "preds = IAI.predict(nl, bbr.X);\r\n",
    "one_preds = findall(x -> x == 1, preds)\r\n",
    "zero_preds = findall(x -> x == 0, preds)\r\n",
    "Plots.scatter(bbr.X[one_preds,\"x[2]\"], bbr.X[one_preds,\"x[1]\"], bbr.Y[one_preds], \r\n",
    "            markersize = 2, seriescolor=:blue, camera = (10,50))\r\n",
    "Plots.scatter!(bbr.X[zero_preds,\"x[2]\"], bbr.X[zero_preds,\"x[1]\"], bbr.Y[zero_preds], \r\n",
    "            markersize = 2, seriescolor=:red, camera = (10,50))"
   ],
   "outputs": [],
   "metadata": {}
  },
  {
   "cell_type": "code",
   "execution_count": null,
   "source": [
    "# How about univariate example? \n",
    "m = JuMP.Model()\n",
    "@variable(m, -5 <= x <= 10)\n",
    "@variable(m, y)\n",
    "gm = GlobalModel(model = m)\n",
    "# add_nonlinear_constraint(gm, :(x -> max.(-6*x .-6,0.5x,0.2x.^5+0.5x)), dependent_var = y)\n",
    "# add_nonlinear_constraint(gm, :(x -> x^1.2*sin(x)), dependent_var = y)\n",
    "add_nonlinear_constraint(gm, :(x -> min((x-1)^2, (x+2)^2)), dependent_var = y)\n",
    "uniform_sample_and_eval!(gm)\n",
    "classify_curvature(gm.bbls[1])"
   ],
   "outputs": [],
   "metadata": {}
  },
  {
   "cell_type": "code",
   "execution_count": null,
   "source": [
    "bbr = gm.bbls[1]\n",
    "plt2d = Plots.plot()\n",
    "for val in [-1, 0, 1]\n",
    "    idxs = findall(i -> i == val, bbr.curvatures)\n",
    "    Plots.scatter!(bbr.X[idxs,\"x\"], bbr.Y[idxs], markersize = 4, label = val)\n",
    "end\n",
    "display(plt2d)"
   ],
   "outputs": [],
   "metadata": {}
  },
  {
   "cell_type": "code",
   "execution_count": null,
   "source": [
    "learn_constraint!(bbr)"
   ],
   "outputs": [],
   "metadata": {}
  },
  {
   "cell_type": "code",
   "execution_count": null,
   "source": [
    "bbr.learners[end]"
   ],
   "outputs": [],
   "metadata": {}
  }
 ],
 "metadata": {
  "@webio": {
   "lastCommId": null,
   "lastKernelId": null
  },
  "kernelspec": {
   "display_name": "Julia 1.5.3",
   "language": "julia",
   "name": "julia-1.5"
  },
  "language_info": {
   "file_extension": ".jl",
   "mimetype": "application/julia",
   "name": "julia",
   "version": "1.5.3"
  }
 },
 "nbformat": 4,
 "nbformat_minor": 4
}