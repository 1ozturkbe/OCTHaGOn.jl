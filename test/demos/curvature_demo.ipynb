{
 "cells": [
  {
   "cell_type": "code",
   "execution_count": null,
   "metadata": {},
   "outputs": [],
   "source": [
    "include(\"../load.jl\")"
   ]
  },
  {
   "cell_type": "code",
   "execution_count": null,
   "metadata": {},
   "outputs": [],
   "source": [
    "using Plots\n",
    "using LaTeXStrings\n",
    "using JuMP"
   ]
  },
  {
   "cell_type": "code",
   "execution_count": null,
   "metadata": {},
   "outputs": [],
   "source": [
    "# Creating the GlobalModel\n",
    "m = JuMP.Model(with_optimizer(CPLEX_SILENT))\n",
    "# @variable(m, -20 <= x[1:2] <= 20)\n",
    "# set_lower_bound(x[2], 0)\n",
    "# set_upper_bound(x[2], 10)\n",
    "@variable(m, 1 <= x[1:2] <= 5)\n",
    "@variable(m, y)\n",
    "gm = GlobalModel(model = m)\n",
    "# add_nonlinear_constraint(gm, :(x -> x[1]^2 + x[2]^2), dependent_var = y)\n",
    "# add_nonlinear_constraint(gm, :(x -> log(x[1]^2 + x[2]^2)), dependent_var = y)\n",
    "# add_nonlinear_constraint(gm, :(x -> exp(- 1/6*(x[1]^2) - 1/10*(x[2]^2))), dependent_var = y)\n",
    "# add_nonlinear_constraint(gm, :(x -> x[1] + x[2]), dependent_var = y)\n",
    "# add_nonlinear_constraint(gm, :(x -> x[1]^4*x[2]^2 + x[1]^2*x[2]^4 - 3*x[1]^2*x[2]^2 + 1), dependent_var = y)\n",
    "add_nonlinear_constraint(gm, :(x -> max(0, x[1] - 2 - 0.1*x[1]*x[2]^2, x[2] - 2)), dependent_var = y)\n",
    "bbr = gm.bbls[end]\n",
    "set_param(bbr, :n_samples, 500)\n",
    "uniform_sample_and_eval!(gm, lh_iterations=20)\n",
    "classify_curvature(bbr)"
   ]
  },
  {
   "cell_type": "code",
   "execution_count": null,
   "metadata": {
    "scrolled": true
   },
   "outputs": [],
   "source": [
    "# Curvature plot\n",
    "bbr = gm.bbls[1]\n",
    "plt3d = Plots.plot()\n",
    "for val in [-1, 0, 1]\n",
    "    idxs = findall(i -> i == val, bbr.curvatures)\n",
    "    Plots.scatter!(bbr.X[idxs,\"x[2]\"], bbr.X[idxs,\"x[1]\"], bbr.Y[idxs], markersize = 2, label = val, camera = (10,50))\n",
    "end\n",
    "xlabel!(L\"$x_2$\"); ylabel!(L\"$x_1$\"); title!(L\"$y$\")\n",
    "display(plt3d)"
   ]
  },
  {
   "cell_type": "code",
   "execution_count": null,
   "metadata": {},
   "outputs": [],
   "source": [
    "# We can train trees over the curvatures\n",
    "lnr = base_classifier()\n",
    "kwargs = Dict()\n",
    "nl = OCTHaGOn.learn_from_data!(bbr.X, bbr.curvatures .> 0, lnr; fit_classifier_kwargs(; kwargs...)...)"
   ]
  },
  {
   "cell_type": "code",
   "execution_count": null,
   "metadata": {},
   "outputs": [],
   "source": [
    "# Plotting convexity\n",
    "preds = IAI.predict(nl, bbr.X);\n",
    "one_preds = findall(x -> x == 1, preds)\n",
    "zero_preds = findall(x -> x == 0, preds)\n",
    "Plots.scatter(bbr.X[one_preds,\"x[2]\"], bbr.X[one_preds,\"x[1]\"], bbr.Y[one_preds], \n",
    "            markersize = 2, seriescolor=:blue, camera = (10,50))\n",
    "Plots.scatter!(bbr.X[zero_preds,\"x[2]\"], bbr.X[zero_preds,\"x[1]\"], bbr.Y[zero_preds], \n",
    "            markersize = 2, seriescolor=:red, camera = (10,50))"
   ]
  },
  {
   "cell_type": "code",
   "execution_count": null,
   "metadata": {},
   "outputs": [],
   "source": [
    "# How about univariate example? \n",
    "m = JuMP.Model()\n",
    "@variable(m, -5 <= x <= 10)\n",
    "@variable(m, y)\n",
    "gm = GlobalModel(model = m)\n",
    "# add_nonlinear_constraint(gm, :(x -> max.(-6*x .-6,0.5x,0.2x.^5+0.5x)), dependent_var = y)\n",
    "# add_nonlinear_constraint(gm, :(x -> x^1.2*sin(x)), dependent_var = y)\n",
    "add_nonlinear_constraint(gm, :(x -> min((x-1)^2, (x+2)^2)), dependent_var = y)\n",
    "uniform_sample_and_eval!(gm)\n",
    "classify_curvature(gm.bbls[1])"
   ]
  },
  {
   "cell_type": "code",
   "execution_count": null,
   "metadata": {},
   "outputs": [],
   "source": [
    "bbr = gm.bbls[1]\n",
    "plt2d = Plots.plot()\n",
    "for val in [-1, 0, 1]\n",
    "    idxs = findall(i -> i == val, bbr.curvatures)\n",
    "    Plots.scatter!(bbr.X[idxs,\"x\"], bbr.Y[idxs], markersize = 4, label = val)\n",
    "end\n",
    "display(plt2d)"
   ]
  },
  {
   "cell_type": "code",
   "execution_count": null,
   "metadata": {},
   "outputs": [],
   "source": [
    "learn_constraint!(bbr)"
   ]
  },
  {
   "cell_type": "code",
   "execution_count": null,
   "metadata": {},
   "outputs": [],
   "source": [
    "bbr.learners[end]"
   ]
  }
 ],
 "metadata": {
  "@webio": {
   "lastCommId": null,
   "lastKernelId": null
  },
  "kernelspec": {
   "display_name": "Julia 1.5.3",
   "language": "julia",
   "name": "julia-1.5"
  },
  "language_info": {
   "file_extension": ".jl",
   "mimetype": "application/julia",
   "name": "julia",
   "version": "1.5.3"
  }
 },
 "nbformat": 4,
 "nbformat_minor": 4
}
