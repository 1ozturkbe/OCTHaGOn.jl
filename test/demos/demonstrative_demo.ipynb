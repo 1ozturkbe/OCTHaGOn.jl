{
 "cells": [
  {
   "cell_type": "code",
   "execution_count": null,
   "id": "a9ad83dc",
   "metadata": {},
   "outputs": [],
   "source": [
    "include(\"../load.jl\")\n",
    "include(\"../../data/baron/minlp_demo.jl\")\n",
    "include(\"../tools/plots.jl\")\n",
    "using Plots\n",
    "using LaTeXStrings"
   ]
  },
  {
   "cell_type": "code",
   "execution_count": null,
   "id": "a901fbd7",
   "metadata": {},
   "outputs": [],
   "source": [
    "# BARON solution \n",
    "gm = minlp_demo(false);\n",
    "set_optimizer(gm, BARON_SILENT)\n",
    "optimize!(gm);\n",
    "solution(gm)"
   ]
  },
  {
   "cell_type": "code",
   "execution_count": null,
   "id": "1fe8b456",
   "metadata": {},
   "outputs": [],
   "source": [
    "gm = minlp_demo(true)\n",
    "set_optimizer(gm, CPLEX_SILENT)\n",
    "set_param(gm, :ignore_accuracy, true)\n",
    "set_param(gm, :step_size, 1e-4)\n",
    "set_param(gm, :abstol, 1e-2)\n",
    "x = gm.model[:x]\n",
    "# Actually trying to optimize...\n",
    "# find_bounds!(gm, all_bounds=true)\n",
    "uniform_sample_and_eval!(gm)\n",
    "learn_constraint!(gm.bbls, max_depth = 3)\n",
    "globalsolve!(gm)"
   ]
  },
  {
   "cell_type": "code",
   "execution_count": null,
   "id": "f99acc69",
   "metadata": {},
   "outputs": [],
   "source": [
    "# Showing the learners\n",
    "idx = 2\n",
    "bbr = gm.bbls[idx]\n",
    "bbr.learners[end]"
   ]
  },
  {
   "cell_type": "code",
   "execution_count": null,
   "id": "be3188ec",
   "metadata": {},
   "outputs": [],
   "source": [
    "# Feasible and infeasible points of constraint 1\n",
    "bbc = gm.bbls[1]\n",
    "feas_idxs = findall(x -> x .>= 0, bbc.Y)\n",
    "infeas_idxs = findall(x -> x .< 0, bbc.Y)\n",
    "scatter(bbc.X[feas_idxs,1],\n",
    "bbc.X[feas_idxs, 2], bbc.X[feas_idxs, 3], \n",
    "        legend = false, label = \"feasible\", color = :green,  fmt = :png)\n",
    "plt = scatter!(bbc.X[infeas_idxs,1],\n",
    "bbc.X[infeas_idxs, 2], bbc.X[infeas_idxs, 3], \n",
    "        title = \"Constraint samples\",\n",
    "xlabel = L\"x_1\", ylabel = L\"x_2\", zlabel = L\"x_3\", \n",
    "legend = true, label = \"infeasible\", color = :red,  fmt = :png)\n",
    "# savefig(plt, \"constr\")"
   ]
  },
  {
   "cell_type": "code",
   "execution_count": null,
   "id": "9cb5b43a",
   "metadata": {},
   "outputs": [],
   "source": [
    "# Showing the projected gradient descent iterations\n",
    "# on the surface of constraint 1. \n",
    "symbs = [Symbol(\"x[$(i)]\") for i=1:3]\n",
    "npts = 100\n",
    "f(x,y) = (0.8 * log(y + 1) + 0.96 * log((x - y) + 1))/0.8\n",
    "plt = plot(range(0.35, stop = 1, length = npts),\n",
    "      range(0.35, stop = 1, length = npts),\n",
    "    zlims = [0.3,0.75],\n",
    "    f, st=:surface, legend = false)\n",
    "scatter!(gm.solution_history[1:40,symbs[1]],\n",
    "    gm.solution_history[1:40,symbs[2]], \n",
    "    gm.solution_history[1:40,symbs[3]], xlabel = L\"x_1\", ylabel = L\"x_2\", zlabel = L\"x_3\", \n",
    "    xticks = 0:0.25:1, yticks = 0:0.25:1,\n",
    "    title = \"Projected gradient descent iterations\",\n",
    "    fmt = png, color = colormap(\"Blues\", 40), legend = false)"
   ]
  },
  {
   "cell_type": "code",
   "execution_count": null,
   "id": "5382c335",
   "metadata": {},
   "outputs": [],
   "source": [
    "# Solution history, for good measure. \n",
    "println(\"First solution:\" * string(gm.solution_history[80, :]))\n",
    "println(\"\")\n",
    "println(\"First cost: \" * string(gm.cost[1]))\n",
    "println(\"Final solution:\" * string(gm.solution_history[end, :]))\n",
    "println(\"Final cost: \" * string(gm.cost[end]))"
   ]
  }
 ],
 "metadata": {
  "@webio": {
   "lastCommId": null,
   "lastKernelId": null
  },
  "kernelspec": {
   "display_name": "Julia 1.5.3",
   "language": "julia",
   "name": "julia-1.5"
  },
  "language_info": {
   "file_extension": ".jl",
   "mimetype": "application/julia",
   "name": "julia",
   "version": "1.5.3"
  }
 },
 "nbformat": 4,
 "nbformat_minor": 5
}
