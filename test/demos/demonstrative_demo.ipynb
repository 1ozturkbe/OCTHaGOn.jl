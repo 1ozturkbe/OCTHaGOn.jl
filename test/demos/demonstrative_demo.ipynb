{
 "cells": [
  {
   "cell_type": "code",
   "execution_count": null,
   "source": [
    "include(\"../load.jl\")"
   ],
   "outputs": [],
   "metadata": {}
  },
  {
   "cell_type": "code",
   "execution_count": null,
   "source": [
    "include(\"../../data/speed_reducer.jl\")"
   ],
   "outputs": [],
   "metadata": {}
  },
  {
   "cell_type": "code",
   "execution_count": null,
   "source": [
    "gm = sagemark_to_GlobalModel(3, false)\r\n",
    "# gm = speed_reducer()\r\n",
    "set_optimizer(gm, CPLEX_SILENT)\r\n",
    "set_param(gm, :abstol, 1e-7)\r\n",
    "set_param(gm, :ignore_accuracy, true)\r\n",
    "\r\n",
    "# Actually trying to optimize...\r\n",
    "find_bounds!(gm, all_bounds=true)\r\n",
    "uniform_sample_and_eval!(gm)\r\n",
    "\r\n",
    "surveysolve(gm)\r\n",
    "println(\"Approximation accuracies: \", evaluate_accuracy(gm))"
   ],
   "outputs": [],
   "metadata": {}
  },
  {
   "cell_type": "code",
   "execution_count": null,
   "source": [
    "clear_tree_constraints!(gm)\r\n",
    "add_tree_constraints!(gm)\r\n",
    "@time optimize!(gm)"
   ],
   "outputs": [],
   "metadata": {}
  },
  {
   "cell_type": "code",
   "execution_count": null,
   "source": [
    "# Solving of model\r\n",
    "set_param(gm, :ignore_accuracy, true)\r\n",
    "# add_tree_constraints!(gm)\r\n",
    "# optimize!(gm)\r\n",
    "vals = solution(gm);\r\n",
    "add_infeasibility_cuts!(gm)\r\n",
    "optimize!(gm)\r\n",
    "while abs(gm.cost[end] - gm.cost[end-1]) > get_param(gm, :abstol)\r\n",
    "    add_infeasibility_cuts!(gm)\r\n",
    "    optimize!(gm)\r\n",
    "end\r\n",
    "println(\"X values: \", vals)\r\n",
    "println(\"Optimal X: \", vcat(exp.([5.01063529, 3.40119660, -0.48450710]), [-147-2/3]))"
   ],
   "outputs": [],
   "metadata": {}
  },
  {
   "cell_type": "code",
   "execution_count": null,
   "source": [
    "gm.bbls[1].learners[end]\r\n",
    "# gm.bbls[1].actuals\r\n",
    "# gm.bbls[1].mi_constraints"
   ],
   "outputs": [],
   "metadata": {}
  },
  {
   "cell_type": "code",
   "execution_count": null,
   "source": [
    "IAI.show_in_browser(gm.bbls[2].learners[end])"
   ],
   "outputs": [],
   "metadata": {}
  },
  {
   "cell_type": "code",
   "execution_count": null,
   "source": [
    "bbr = gm.bbls[1]\r\n",
    "score = IAI.score(bbr.learners[end], bbr.X, bbr.Y)"
   ],
   "outputs": [],
   "metadata": {}
  },
  {
   "cell_type": "code",
   "execution_count": null,
   "source": [
    "gm.model"
   ],
   "outputs": [],
   "metadata": {}
  },
  {
   "cell_type": "code",
   "execution_count": null,
   "source": [
    "# Printing numbers of variables and constraints\r\n",
    "println(\"Variables: $(length(JuMP.all_variables(gm.model)))\")\r\n",
    "println(\"Constraints: $(sum(length(all_constraints(gm.model, type[1], type[2])) for type in JuMP.list_of_constraint_types(gm.model))\r\n",
    ")\")"
   ],
   "outputs": [],
   "metadata": {}
  },
  {
   "cell_type": "code",
   "execution_count": null,
   "source": [
    "using Plots\r\n",
    "using LatexStrings\r\n",
    "# First the constraint\r\n",
    "bbc = gm.bbls[2]\r\n",
    "feas_idxs = findall(x -> x .>= 0, bbc.Y)\r\n",
    "infeas_idxs = findall(x -> x .< 0, bbc.Y)\r\n",
    "scatter(bbc.X[feas_idxs,1],\r\n",
    "bbc.X[feas_idxs, 2], bbc.X[feas_idxs, 3], \r\n",
    "        legend = false, label = \"feasible\", color = :green,  fmt = :png)\r\n",
    "plt = scatter!(bbc.X[infeas_idxs,1],\r\n",
    "bbc.X[infeas_idxs, 2], bbc.X[infeas_idxs, 3], \r\n",
    "        title = \"Constraint samples\",\r\n",
    "xlabel = L\"x_1\", ylabel = L\"x_2\", zlabel = L\"x_3\", \r\n",
    "legend = true, label = \"infeasible\", color = :red,  fmt = :png)\r\n",
    "savefig(plt, \"constr\")"
   ],
   "outputs": [],
   "metadata": {}
  },
  {
   "cell_type": "code",
   "execution_count": null,
   "source": [
    "bbr = gm.bbls[1]\r\n",
    "plt = scatter(bbr.X[:,1],\r\n",
    "bbr.X[:, 2], bbr.Y, \r\n",
    "        title = \"Objective samples\",\r\n",
    "xlabel = L\"x_1\", ylabel = L\"x_2\", zlabel = L\"f(\\mathbf{x})\", \r\n",
    "legend = false, color = :green,  fmt = :png)\r\n",
    "savefig(plt, \"obj\")"
   ],
   "outputs": [],
   "metadata": {}
  }
 ],
 "metadata": {
  "@webio": {
   "lastCommId": null,
   "lastKernelId": null
  },
  "kernelspec": {
   "display_name": "Julia 1.5.1",
   "language": "julia",
   "name": "julia-1.5"
  },
  "language_info": {
   "file_extension": ".jl",
   "mimetype": "application/julia",
   "name": "julia",
   "version": "1.5.1"
  }
 },
 "nbformat": 4,
 "nbformat_minor": 5
}