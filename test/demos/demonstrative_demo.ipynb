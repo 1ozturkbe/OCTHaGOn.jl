{
 "cells": [
  {
   "cell_type": "code",
   "execution_count": 51,
   "id": "89df4162",
   "metadata": {},
   "outputs": [
    {
     "name": "stderr",
     "output_type": "stream",
     "text": [
      "WARNING: replacing module OptimalConstraintTree.\n",
      "WARNING: using OptimalConstraintTree.add_nonlinear_or_compatible in module Main conflicts with an existing identifier.\n",
      "WARNING: using OptimalConstraintTree.get_param in module Main conflicts with an existing identifier.\n",
      "WARNING: using OptimalConstraintTree.learn_constraint! in module Main conflicts with an existing identifier.\n",
      "WARNING: using OptimalConstraintTree.BlackBoxRegressor in module Main conflicts with an existing identifier.\n",
      "WARNING: using OptimalConstraintTree.BlackBoxClassifier in module Main conflicts with an existing identifier.\n",
      "WARNING: using OptimalConstraintTree.add_infeasibility_cuts! in module Main conflicts with an existing identifier.\n",
      "WARNING: using OptimalConstraintTree.add_tree_constraints! in module Main conflicts with an existing identifier.\n",
      "WARNING: using OptimalConstraintTree.bound! in module Main conflicts with an existing identifier.\n",
      "WARNING: using OptimalConstraintTree.find_bounds! in module Main conflicts with an existing identifier.\n",
      "WARNING: using OptimalConstraintTree.uniform_sample_and_eval! in module Main conflicts with an existing identifier.\n",
      "WARNING: using OptimalConstraintTree.set_param in module Main conflicts with an existing identifier.\n",
      "WARNING: using OptimalConstraintTree.solution in module Main conflicts with an existing identifier.\n",
      "WARNING: using OptimalConstraintTree.GlobalModel in module Main conflicts with an existing identifier.\n",
      "WARNING: using OptimalConstraintTree.evaluate_accuracy in module Main conflicts with an existing identifier.\n",
      "WARNING: using OptimalConstraintTree.surveysolve in module Main conflicts with an existing identifier.\n",
      "WARNING: using OptimalConstraintTree.add_nonlinear_constraint in module Main conflicts with an existing identifier.\n"
     ]
    },
    {
     "data": {
      "text/plain": [
       "pool1"
      ]
     },
     "execution_count": 51,
     "metadata": {},
     "output_type": "execute_result"
    }
   ],
   "source": [
    "include(\"../load.jl\")"
   ]
  },
  {
   "cell_type": "code",
   "execution_count": 57,
   "id": "524eadff",
   "metadata": {},
   "outputs": [
    {
     "data": {
      "text/plain": [
       "speed_reducer (generic function with 2 methods)"
      ]
     },
     "execution_count": 57,
     "metadata": {},
     "output_type": "execute_result"
    }
   ],
   "source": [
    "include(\"../../data/speed_reducer.jl\")"
   ]
  },
  {
   "cell_type": "code",
   "execution_count": 58,
   "id": "96abffe6",
   "metadata": {},
   "outputs": [
    {
     "name": "stderr",
     "output_type": "stream",
     "text": [
      "┌ Info: bbl2 was not KNN sampled since it has no infeasible samples.\n",
      "└ @ Main.OptimalConstraintTree C:\\Users\\berko\\Code\\OptimalConstraintTree\\src\\sample.jl:154\n",
      "┌ Info: bbl3 was not KNN sampled since it has no infeasible samples.\n",
      "└ @ Main.OptimalConstraintTree C:\\Users\\berko\\Code\\OptimalConstraintTree\\src\\sample.jl:154\n",
      "┌ Info: bbl5 was not KNN sampled since it has no infeasible samples.\n",
      "└ @ Main.OptimalConstraintTree C:\\Users\\berko\\Code\\OptimalConstraintTree\\src\\sample.jl:154\n",
      "┌ Info: bbl8 was not KNN sampled since it has no infeasible samples.\n",
      "└ @ Main.OptimalConstraintTree C:\\Users\\berko\\Code\\OptimalConstraintTree\\src\\sample.jl:154\n",
      "\u001b[32mTraining trees...                  100%|████████████████| Time: 0:00:00\u001b[39m\n",
      "\u001b[32mTraining trees...                  100%|████████████████| Time: 0:00:00\u001b[39m\n",
      "\u001b[32mTraining trees...                  100%|████████████████| Time: 0:00:00\u001b[39m\n",
      "\u001b[32mTraining trees...                  100%|████████████████| Time: 0:00:00\u001b[39m\n",
      "\u001b[32mTraining trees...                  100%|████████████████| Time: 0:00:00\u001b[39m\n",
      "\u001b[32mTraining trees...                  100%|████████████████| Time: 0:00:00\u001b[39m\n",
      "\u001b[32mTraining trees...                  100%|████████████████| Time: 0:00:00\u001b[39m\n",
      "\u001b[32mTraining trees...                  100%|████████████████| Time: 0:00:01\u001b[39m\n"
     ]
    },
    {
     "name": "stdout",
     "output_type": "stream",
     "text": [
      "Approximation accuracies: [1.0, 1.0, 1.0, 1.0, 1.0, 1.0, 1.0, 1.0]\n"
     ]
    },
    {
     "name": "stderr",
     "output_type": "stream",
     "text": [
      "┌ Warning: Accuracy of BlackBoxClassifier bbl2 is tautological.\n",
      "└ @ Main.OptimalConstraintTree C:\\Users\\berko\\Code\\OptimalConstraintTree\\src\\global_model.jl:350\n",
      "┌ Warning: Accuracy of BlackBoxClassifier bbl3 is tautological.\n",
      "└ @ Main.OptimalConstraintTree C:\\Users\\berko\\Code\\OptimalConstraintTree\\src\\global_model.jl:350\n",
      "┌ Warning: Accuracy of BlackBoxClassifier bbl5 is tautological.\n",
      "└ @ Main.OptimalConstraintTree C:\\Users\\berko\\Code\\OptimalConstraintTree\\src\\global_model.jl:350\n",
      "┌ Warning: Accuracy of BlackBoxClassifier bbl8 is tautological.\n",
      "└ @ Main.OptimalConstraintTree C:\\Users\\berko\\Code\\OptimalConstraintTree\\src\\global_model.jl:350\n"
     ]
    }
   ],
   "source": [
    "gm = sagemark_to_GlobalModel(3; lse=false)\n",
    "gm = speed_reducer()\n",
    "set_optimizer(gm, CPLEX_SILENT)\n",
    "set_param(gm, :abstol, 1e-7)\n",
    "\n",
    "# Actually trying to optimize...\n",
    "find_bounds!(gm, all_bounds=true)\n",
    "uniform_sample_and_eval!(gm)\n",
    "\n",
    "surveysolve(gm)\n",
    "println(\"Approximation accuracies: \", evaluate_accuracy(gm))"
   ]
  },
  {
   "cell_type": "code",
   "execution_count": 59,
   "id": "5ceb5997",
   "metadata": {},
   "outputs": [
    {
     "name": "stdout",
     "output_type": "stream",
     "text": [
      "X values: \u001b[1m1×8 DataFrame\u001b[0m\n",
      "\u001b[1m Row \u001b[0m│\u001b[1m x[1]    \u001b[0m\u001b[1m x[2]     \u001b[0m\u001b[1m x[3]    \u001b[0m\u001b[1m x[4]    \u001b[0m\u001b[1m x[5]    \u001b[0m\u001b[1m x[6]    \u001b[0m\u001b[1m x[7]    \u001b[0m\u001b[1m x[8]    \u001b[0m\n",
      "\u001b[1m     \u001b[0m│\u001b[90m Float64 \u001b[0m\u001b[90m Float64  \u001b[0m\u001b[90m Float64 \u001b[0m\u001b[90m Float64 \u001b[0m\u001b[90m Float64 \u001b[0m\u001b[90m Float64 \u001b[0m\u001b[90m Float64 \u001b[0m\u001b[90m Float64 \u001b[0m\n",
      "─────┼─────────────────────────────────────────────────────────────────────────\n",
      "   1 │ 3.50191  0.700383     17.0      7.3  7.71572  3.34829  5.28702  2990.75\n",
      "Optimal X: [149.9999993855616, 29.999976550144503, 0.6160007487168032, -147.66666666666666]\n"
     ]
    },
    {
     "name": "stderr",
     "output_type": "stream",
     "text": [
      "┌ Info: 1 infeasibility cuts added.\n",
      "└ @ Main.OptimalConstraintTree C:\\Users\\berko\\Code\\OptimalConstraintTree\\src\\refine.jl:229\n",
      "┌ Info: 0 infeasibility cuts added.\n",
      "└ @ Main.OptimalConstraintTree C:\\Users\\berko\\Code\\OptimalConstraintTree\\src\\refine.jl:229\n"
     ]
    }
   ],
   "source": [
    "# Solving of model\n",
    "set_param(gm, :ignore_accuracy, true)\n",
    "# add_tree_constraints!(gm)\n",
    "# optimize!(gm)\n",
    "vals = solution(gm);\n",
    "add_infeasibility_cuts!(gm)\n",
    "optimize!(gm)\n",
    "while abs(gm.cost[end] - gm.cost[end-1]) > get_param(gm, :abstol)\n",
    "    add_infeasibility_cuts!(gm)\n",
    "    optimize!(gm)\n",
    "end\n",
    "println(\"X values: \", vals)\n",
    "println(\"Optimal X: \", vcat(exp.([5.01063529, 3.40119660, -0.48450710]), [-147-2/3]))"
   ]
  },
  {
   "cell_type": "code",
   "execution_count": 60,
   "id": "21f9f82b",
   "metadata": {},
   "outputs": [
    {
     "data": {
      "text/plain": [
       "3-element Array{Any,1}:\n",
       " 2996.601100707525\n",
       " 2997.0960141403775\n",
       " 2997.0960141403775"
      ]
     },
     "execution_count": 60,
     "metadata": {},
     "output_type": "execute_result"
    }
   ],
   "source": [
    "gm.bbls[1].learners[end]\n",
    "gm.bbls[1].actuals\n",
    "# gm.bbls[1].mi_constraints"
   ]
  },
  {
   "cell_type": "code",
   "execution_count": 61,
   "id": "f84d4758",
   "metadata": {},
   "outputs": [
    {
     "data": {
      "text/plain": [
       "\"C:\\\\Users\\\\berko\\\\AppData\\\\Local\\\\Temp\\\\jl_E2BA.tmp.html\""
      ]
     },
     "execution_count": 61,
     "metadata": {},
     "output_type": "execute_result"
    }
   ],
   "source": [
    "IAI.show_in_browser(gm.bbls[2].learners[end])"
   ]
  },
  {
   "cell_type": "code",
   "execution_count": null,
   "id": "24ce9345",
   "metadata": {},
   "outputs": [],
   "source": [
    "bbr = gm.bbls[1]\n",
    "score = IAI.score(bbr.learners[end], bbr.X, bbr.Y)"
   ]
  },
  {
   "cell_type": "code",
   "execution_count": null,
   "id": "e2aac912",
   "metadata": {},
   "outputs": [],
   "source": [
    "gm.model"
   ]
  },
  {
   "cell_type": "code",
   "execution_count": 63,
   "id": "8790baea",
   "metadata": {},
   "outputs": [
    {
     "name": "stdout",
     "output_type": "stream",
     "text": [
      "Variables: 275\n",
      "Constraints: 716\n"
     ]
    }
   ],
   "source": [
    "# Printing numbers of variables and constraints\n",
    "println(\"Variables: $(length(JuMP.all_variables(gm.model)))\")\n",
    "println(\"Constraints: $(sum(length(all_constraints(gm.model, type[1], type[2])) for type in JuMP.list_of_constraint_types(gm.model))\n",
    ")\")"
   ]
  },
  {
   "cell_type": "code",
   "execution_count": null,
   "id": "0d05ad5f",
   "metadata": {},
   "outputs": [],
   "source": [
    "# Solving via Ipopt"
   ]
  }
 ],
 "metadata": {
  "@webio": {
   "lastCommId": null,
   "lastKernelId": null
  },
  "kernelspec": {
   "display_name": "Julia 1.5.3",
   "language": "julia",
   "name": "julia-1.5"
  },
  "language_info": {
   "file_extension": ".jl",
   "mimetype": "application/julia",
   "name": "julia",
   "version": "1.5.3"
  }
 },
 "nbformat": 4,
 "nbformat_minor": 5
}
