{
 "cells": [
  {
   "cell_type": "code",
   "execution_count": null,
   "id": "61480d70",
   "metadata": {},
   "outputs": [],
   "source": [
    "include(\"../load.jl\")"
   ]
  },
  {
   "cell_type": "code",
   "execution_count": null,
   "id": "a351e58f",
   "metadata": {},
   "outputs": [],
   "source": [
    "gm = minlp(true)\n",
    "set_optimizer(gm, CPLEX_SILENT)\n",
    "set_param(gm, :abstol, 1e-7)\n",
    "set_param(gm, :ignore_accuracy, true)\n",
    "globalsolve!(gm)"
   ]
  },
  {
   "cell_type": "code",
   "execution_count": null,
   "id": "9de26996",
   "metadata": {},
   "outputs": [],
   "source": [
    "show_trees(gm)"
   ]
  },
  {
   "cell_type": "code",
   "execution_count": null,
   "id": "d50048a0",
   "metadata": {
    "scrolled": true
   },
   "outputs": [],
   "source": [
    "gm.bbls[1].learners[end]\n",
    "# gm.bbls[1].actuals\n",
    "# gm.bbls[1].mi_constraints"
   ]
  },
  {
   "cell_type": "code",
   "execution_count": null,
   "id": "2f060cbd",
   "metadata": {},
   "outputs": [],
   "source": [
    "IAI.show_in_browser(gm.bbls[2].learners[end])"
   ]
  },
  {
   "cell_type": "code",
   "execution_count": null,
   "id": "e77ae067",
   "metadata": {},
   "outputs": [],
   "source": [
    "bbr = gm.bbls[1]\n",
    "score = IAI.score(bbr.learners[end], bbr.X, bbr.Y)"
   ]
  },
  {
   "cell_type": "code",
   "execution_count": null,
   "id": "3bb95356",
   "metadata": {},
   "outputs": [],
   "source": [
    "using Latexify\n",
    "latexify(round.(gm.solution_history, sigdigits=5); env=:table, latex=false)"
   ]
  },
  {
   "cell_type": "code",
   "execution_count": null,
   "id": "a470ff9e",
   "metadata": {},
   "outputs": [],
   "source": [
    "# Printing numbers of variables and constraints\n",
    "println(\"Variables: $(length(JuMP.all_variables(gm.model)))\")\n",
    "println(\"Constraints: $(sum(length(all_constraints(gm.model, type[1], type[2])) for type in JuMP.list_of_constraint_types(gm.model))\n",
    ")\")"
   ]
  },
  {
   "cell_type": "code",
   "execution_count": null,
   "id": "27231a06",
   "metadata": {},
   "outputs": [],
   "source": [
    "using Plots\n",
    "using LaTeXStrings\n",
    "# First the constraint\n",
    "bbc = gm.bbls[1]\n",
    "feas_idxs = findall(x -> x .>= 0, bbc.Y)\n",
    "infeas_idxs = findall(x -> x .< 0, bbc.Y)\n",
    "scatter(bbc.X[feas_idxs,1],\n",
    "bbc.X[feas_idxs, 2], bbc.X[feas_idxs, 3], \n",
    "        legend = false, label = \"feasible\", color = :green,  fmt = :png)\n",
    "plt = scatter!(bbc.X[infeas_idxs,1],\n",
    "bbc.X[infeas_idxs, 2], bbc.X[infeas_idxs, 3], \n",
    "        title = L\"\\mathrm{Samples~from~constraint}~g_1(\\mathbf{x}) \\geq 0\",\n",
    "xlabel = L\"x_1\", ylabel = L\"x_2\", zlabel = L\"x_3\", xticks = 0:2:2, yticks = 0:2:2, zticks = 0:1:1,\n",
    "legend = true, label = \"infeasible\", color = :red,  fmt = :png)\n",
    "display(plt)\n",
    "savefig(plt, \"constr\")"
   ]
  },
  {
   "cell_type": "code",
   "execution_count": null,
   "id": "6cb54a17",
   "metadata": {},
   "outputs": [],
   "source": [
    "Y = IAI.predict(bbc.learners[end], bbc.X)\n",
    "trues = [i for i=1:length(Y) if Y[i] == (bbc.Y[i] >= 0)];\n",
    "falses = [i for i=1:length(Y) if Y[i] != (bbc.Y[i] >= 0)];\n",
    "axes = [1,2,3]\n",
    "scatter(Matrix(bbc.X)[trues, axes[1]], Matrix(bbc.X)[trues, axes[2]], Matrix(bbc.X)[trues, axes[3]], legend = false,\n",
    "        color = :purple,  fmt = :png, label = \"correct\")\n",
    "scatter!(Matrix(bbc.X)[falses, axes[1]], Matrix(bbc.X)[falses, axes[2]], Matrix(bbc.X)[trues, axes[3]], legend = true,\n",
    "         title = \"Prediction accuracy of OCT-H learner\", \n",
    "    xlabel = L\"x_1\", ylabel = L\"x_2\", zlabel = L\"x_3\", xticks = 0:2:2, yticks = 0:2:2, zticks = 0:1:1,\n",
    "         color = :yellow,  fmt = :png, label = \"incorrect\")"
   ]
  },
  {
   "cell_type": "code",
   "execution_count": null,
   "id": "8ddfee7d",
   "metadata": {},
   "outputs": [],
   "source": [
    "bbr = gm.bbls[1]\n",
    "plt = scatter(bbr.X[:,1],\n",
    "bbr.X[:, 2], bbr.Y, \n",
    "        title = \"Objective samples\",\n",
    "xlabel = L\"x_1\", ylabel = L\"x_2\", zlabel = L\"f(\\mathbf{x})\", \n",
    "legend = false, color = :green,  fmt = :png)\n",
    "savefig(plt, \"obj\")"
   ]
  },
  {
   "cell_type": "code",
   "execution_count": null,
   "id": "433d1d68",
   "metadata": {},
   "outputs": [],
   "source": [
    "length(trues)/length(bbc.Y)"
   ]
  },
  {
   "cell_type": "code",
   "execution_count": null,
   "id": "ec48888a",
   "metadata": {},
   "outputs": [],
   "source": [
    "add_tree_constraints!(gm)"
   ]
  },
  {
   "cell_type": "code",
   "execution_count": null,
   "id": "57a69dae",
   "metadata": {},
   "outputs": [],
   "source": [
    "    types = JuMP.list_of_constraint_types(gm.model)\n",
    "    init_constraints = sum(length(all_constraints(gm.model, type[1], type[2])) for type in types)"
   ]
  },
  {
   "cell_type": "code",
   "execution_count": null,
   "id": "b168e843",
   "metadata": {},
   "outputs": [],
   "source": [
    "plot(gm.solution_history[:, end], xlabel = \"Iterations\", ylabel = \"Objective cost\", legend = false)"
   ]
  }
 ],
 "metadata": {
  "@webio": {
   "lastCommId": null,
   "lastKernelId": null
  },
  "kernelspec": {
   "display_name": "Julia 1.5.3",
   "language": "julia",
   "name": "julia-1.5"
  },
  "language_info": {
   "file_extension": ".jl",
   "mimetype": "application/julia",
   "name": "julia",
   "version": "1.5.3"
  }
 },
 "nbformat": 4,
 "nbformat_minor": 5
}
