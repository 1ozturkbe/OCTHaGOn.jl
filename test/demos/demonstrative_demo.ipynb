{
 "cells": [
  {
   "cell_type": "code",
   "execution_count": null,
   "metadata": {},
   "outputs": [],
   "source": [
    "include(\"../load.jl\")"
   ]
  },
  {
   "cell_type": "code",
   "execution_count": null,
   "metadata": {},
   "outputs": [],
   "source": [
    "include(\"../../data/speed_reducer.jl\")"
   ]
  },
  {
   "cell_type": "code",
   "execution_count": null,
   "metadata": {},
   "outputs": [],
   "source": [
    "gm = sagemark_to_GlobalModel(3; lse=false)\n",
    "# gm = speed_reducer()\n",
    "set_optimizer(gm, CPLEX_SILENT)\n",
    "set_param(gm, :abstol, 1e-7)\n",
    "set_param(gm, :ignore_accuracy, true)\n",
    "\n",
    "# Actually trying to optimize...\n",
    "find_bounds!(gm, all_bounds=true)\n",
    "uniform_sample_and_eval!(gm)\n",
    "\n",
    "surveysolve(gm)\n",
    "println(\"Approximation accuracies: \", evaluate_accuracy(gm))"
   ]
  },
  {
   "cell_type": "code",
   "execution_count": null,
   "metadata": {},
   "outputs": [],
   "source": [
    "clear_tree_constraints!(gm)\n",
    "add_tree_constraints!(gm)\n",
    "@time optimize!(gm)"
   ]
  },
  {
   "cell_type": "code",
   "execution_count": null,
   "metadata": {},
   "outputs": [],
   "source": [
    "# Solving of model\n",
    "set_param(gm, :ignore_accuracy, true)\n",
    "# add_tree_constraints!(gm)\n",
    "# optimize!(gm)\n",
    "vals = solution(gm);\n",
    "add_infeasibility_cuts!(gm)\n",
    "optimize!(gm)\n",
    "while abs(gm.cost[end] - gm.cost[end-1]) > get_param(gm, :abstol)\n",
    "    add_infeasibility_cuts!(gm)\n",
    "    optimize!(gm)\n",
    "end\n",
    "println(\"X values: \", vals)\n",
    "println(\"Optimal X: \", vcat(exp.([5.01063529, 3.40119660, -0.48450710]), [-147-2/3]))"
   ]
  },
  {
   "cell_type": "code",
   "execution_count": null,
   "metadata": {},
   "outputs": [],
   "source": [
    "gm.bbls[1].learners[end]\n",
    "# gm.bbls[1].actuals\n",
    "# gm.bbls[1].mi_constraints"
   ]
  },
  {
   "cell_type": "code",
   "execution_count": null,
   "metadata": {},
   "outputs": [],
   "source": [
    "IAI.show_in_browser(gm.bbls[2].learners[end])"
   ]
  },
  {
   "cell_type": "code",
   "execution_count": null,
   "metadata": {},
   "outputs": [],
   "source": [
    "bbr = gm.bbls[1]\n",
    "score = IAI.score(bbr.learners[end], bbr.X, bbr.Y)"
   ]
  },
  {
   "cell_type": "code",
   "execution_count": null,
   "metadata": {},
   "outputs": [],
   "source": [
    "gm.model"
   ]
  },
  {
   "cell_type": "code",
   "execution_count": null,
   "metadata": {},
   "outputs": [],
   "source": [
    "# Printing numbers of variables and constraints\n",
    "println(\"Variables: $(length(JuMP.all_variables(gm.model)))\")\n",
    "println(\"Constraints: $(sum(length(all_constraints(gm.model, type[1], type[2])) for type in JuMP.list_of_constraint_types(gm.model))\n",
    ")\")"
   ]
  },
  {
   "cell_type": "code",
   "execution_count": null,
   "metadata": {},
   "outputs": [],
   "source": [
    "# Solving via Ipopt"
   ]
  }
 ],
 "metadata": {
  "@webio": {
   "lastCommId": null,
   "lastKernelId": null
  },
  "kernelspec": {
   "display_name": "Julia 1.5.1",
   "language": "julia",
   "name": "julia-1.5"
  },
  "language_info": {
   "file_extension": ".jl",
   "mimetype": "application/julia",
   "name": "julia",
   "version": "1.5.1"
  }
 },
 "nbformat": 4,
 "nbformat_minor": 5
}
